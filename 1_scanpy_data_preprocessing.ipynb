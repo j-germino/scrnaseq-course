{
 "cells": [
  {
   "cell_type": "markdown",
   "metadata": {},
   "source": [
    "# Session 1: Introduction to scanpy and scRNAseq preprocessing"
   ]
  },
  {
   "cell_type": "markdown",
   "metadata": {},
   "source": [
    "## Google colab setup"
   ]
  },
  {
   "cell_type": "code",
   "execution_count": 1,
   "metadata": {},
   "outputs": [],
   "source": [
    "import sys\n",
    "if 'google.colab' in sys.modules:\n",
    "    !pip install --quiet scrnatools\n",
    "\n",
    "    from google.colab import drive\n",
    "    drive.mount(\"/content/gdrive\")"
   ]
  },
  {
   "cell_type": "code",
   "execution_count": 2,
   "metadata": {},
   "outputs": [
    {
     "name": "stderr",
     "output_type": "stream",
     "text": [
      "Global seed set to 0\n"
     ]
    }
   ],
   "source": [
    "import scrnatools as rna\n",
    "import scanpy as sc\n",
    "import anndata as ad"
   ]
  },
  {
   "cell_type": "markdown",
   "metadata": {
    "tags": []
   },
   "source": [
    "## Genome alignment with cellranger"
   ]
  },
  {
   "cell_type": "markdown",
   "metadata": {},
   "source": [
    "Note: Run this section on a compute server (i.e. wynton), not google colab"
   ]
  },
  {
   "cell_type": "markdown",
   "metadata": {},
   "source": [
    "### Setup cellranger on wynton"
   ]
  },
  {
   "cell_type": "markdown",
   "metadata": {},
   "source": [
    "On wynton cellranger is alrerady installed, load within script or on a dev node  (see details at https://wynton.ucsf.edu/hpc/get-started/hello-world-job.html)"
   ]
  },
  {
   "cell_type": "raw",
   "metadata": {},
   "source": [
    "module load CBI cellranger"
   ]
  },
  {
   "cell_type": "markdown",
   "metadata": {},
   "source": [
    "### Install cellranger on your own computer/server: "
   ]
  },
  {
   "cell_type": "markdown",
   "metadata": {},
   "source": [
    "This is easiest to do on a Linux/MacOS machine, but can be done on windows too using windows subsytem for linux (WSL) https://learn.microsoft.com/en-us/windows/wsl/about"
   ]
  },
  {
   "cell_type": "raw",
   "metadata": {},
   "source": [
    "# Further information at https://support.10xgenomics.com/single-cell-gene-expression/software/pipelines/latest/installation\n",
    "# Navigate to the 'opt' folder on your machine\n",
    "cd /opt\n",
    "\n",
    "# Download the cellranger software from 10X\n",
    "wget -o cellranger-7.1.0.tar.gz \"https://cf.10xgenomics.com/releases/cell-exp/cellranger-7.1.0.tar.gz?Expires=1681550476&Policy=eyJTdGF0ZW1lbnQiOlt7IlJlc291cmNlIjoiaHR0cHM6Ly9jZi4xMHhnZW5vbWljcy5jb20vcmVsZWFzZXMvY2VsbC1leHAvY2VsbHJhbmdlci03LjEuMC50YXIuZ3oiLCJDb25kaXRpb24iOnsiRGF0ZUxlc3NUaGFuIjp7IkFXUzpFcG9jaFRpbWUiOjE2ODE1NTA0NzZ9fX1dfQ__&Signature=ouKIbypKn24nUpTw5o9m5YHeLdL8sTWWPLZbAqvVZ7V~T6MYFMmFHpa87cxL8COHb-Zsl7SI8yaxc-oPscyHF3cGauWPTjKintzQ7tkQ3Zf3x~PgmyjYbm2~vSz8Y4ZDNPyZQ3yXUCT108ReVSynP~z9qzqqDHOsqjC9tRs7bBA34IuWm6gV77FVWeQ4diWypuXVaackt69n6t0G5gUrcKVQjVZiwGgL9X8MY4xmz859rqrct4iRlnlHwjetJlfb1otfjhFOU6u0j~xMB~QuvR7HaXmfrGLYt2M6uR8P3dmDnRcgt2YNgXj8cQmsXkINyPqATrEg38HJBfNQB-u8SA__&Key-Pair-Id=APKAI7S6A5RYOXBWRPDA\"\n",
    "\n",
    "# Unzip the download in place\n",
    "tar -xzvf cellranger-7.1.0.tar.gz\n",
    "\n",
    "# Add cellranger to your systems' PATH variable\n",
    "export PATH=/opt/cellranger-7.1.0:$PATH"
   ]
  },
  {
   "cell_type": "markdown",
   "metadata": {},
   "source": [
    "### Download reference genome (mouse)"
   ]
  },
  {
   "cell_type": "raw",
   "metadata": {},
   "source": [
    "# Download reference genome (mouse):\n",
    "mkdir ~/cellranger_genomes # Create a directory to save the reference genome to\n",
    "cd ~/cellranger_genomes # Navigate to that directory\n",
    "wget -O https://cf.10xgenomics.com/supp/cell-exp/refdata-gex-mm10-2020-A.tar.gz # Download the mouse reference from 10X\n",
    "tar -xzvf refdata-gex-mm10-2020-A.tar.gz # Unpack the download in place"
   ]
  },
  {
   "cell_type": "markdown",
   "metadata": {},
   "source": [
    "### Transfer fastqs to wynton"
   ]
  },
  {
   "cell_type": "markdown",
   "metadata": {},
   "source": [
    "Use secure copy protocol to upload the data directory containing fastq files to your home folder"
   ]
  },
  {
   "cell_type": "raw",
   "metadata": {},
   "source": [
    "scp data/fastqs <username>@dt2.wynton.ucsf.edu:~/"
   ]
  },
  {
   "cell_type": "markdown",
   "metadata": {},
   "source": [
    "### Run cellranger count"
   ]
  },
  {
   "cell_type": "markdown",
   "metadata": {},
   "source": [
    "On wynton run within a script or on a dev node (see details at https://wynton.ucsf.edu/hpc/get-started/hello-world-job.html)"
   ]
  },
  {
   "cell_type": "markdown",
   "metadata": {},
   "source": [
    "Cellranger's alignment and fastq processing pipeline is run using the 'count' command, passing in the folder containing fastqs to process and the transcriptome to align those reads to. In addition, if multiple samples were run, cellranger count must be run seperately for each sample with their fastq sample ids (the first portion of the fastq file name) passed in as well using the '--sample' argument. The output of each call to cellranger count will be saved to a folder named based on the '--id' parameter. "
   ]
  },
  {
   "cell_type": "raw",
   "metadata": {},
   "source": [
    "# Run cellranger count to align the WT sample, update the fastqs directory path as needed\n",
    "cellranger count --id Fezf2_WT --fastqs data/fastqs  --sample=Fezf_WT --transcriptome ~/cellranger_genomes/refdata-gex-mm10-2020-A.tar.gz"
   ]
  },
  {
   "cell_type": "markdown",
   "metadata": {},
   "source": [
    "This will take a very long time (hours to days) to run, so it is better to run on a computer cluster/server rather than a laptop as the terminal must be left active until it completes if it is run on a laptop"
   ]
  },
  {
   "cell_type": "raw",
   "metadata": {},
   "source": [
    "# Run cellranger count to align the Fezf2 KO sample, update the fastqs directory path as needed\n",
    "cellranger count --id Fezf2_KO --fastqs data/fastqs  --sample=Fezf_MT --transcriptome ~/cellranger_genomes/refdata-gex-mm10-2020-A.tar.gz"
   ]
  },
  {
   "cell_type": "markdown",
   "metadata": {},
   "source": [
    "See more details on cellranger count command at https://support.10xgenomics.com/single-cell-gene-expression/software/pipelines/latest/using/tutorial_ct"
   ]
  },
  {
   "cell_type": "markdown",
   "metadata": {},
   "source": [
    "## Importing data into python"
   ]
  },
  {
   "cell_type": "markdown",
   "metadata": {},
   "source": [
    "Scanpy can read several different data formats into python, however typically you will be using cellranger output files, which include h5 and mtx files. To read H5 files:"
   ]
  },
  {
   "cell_type": "code",
   "execution_count": 3,
   "metadata": {},
   "outputs": [
    {
     "name": "stderr",
     "output_type": "stream",
     "text": [
      "/home/joe/.local/lib/python3.10/site-packages/anndata/_core/anndata.py:1830: UserWarning: Variable names are not unique. To make them unique, call `.var_names_make_unique`.\n",
      "  utils.warn_names_duplicates(\"var\")\n"
     ]
    }
   ],
   "source": [
    "Fezf2_KO_data = sc.read_10x_h5(\"data/cellranger_output/Fezf_KO/filtered_feature_bc_matrix.h5\")\n",
    "# This can spit out a warning that variable (gene) names are not unqiue, which can be fixed using:\n",
    "Fezf2_KO_data.var_names_make_unique()"
   ]
  },
  {
   "cell_type": "markdown",
   "metadata": {},
   "source": [
    "Alternatively, the cellranger output folder containing a .mtx matrix file, a barcodes csv, and a genes csv can all be read in using:"
   ]
  },
  {
   "cell_type": "code",
   "execution_count": 4,
   "metadata": {},
   "outputs": [],
   "source": [
    "Fezf2_KO_data = sc.read_10x_mtx(\"data/cellranger_output/Fezf_KO/filtered_feature_bc_matrix\", cache=True)\n",
    "Fezf2_WT_data = sc.read_10x_mtx(\"data/cellranger_output/Fezf_WT/filtered_feature_bc_matrix\", cache=True)"
   ]
  },
  {
   "cell_type": "markdown",
   "metadata": {},
   "source": [
    "This is slower than reading the 10x h5 file, however will usually avoid the unique variable name error. Setting cache=True tells scanpy to save an h5 file caching the matrix being read in to load it much faster next time it is used. Otherwise, these two files are equivalent and it doesn't matter which one you decide to use."
   ]
  },
  {
   "cell_type": "markdown",
   "metadata": {},
   "source": [
    "## AnnData data structure"
   ]
  },
  {
   "cell_type": "markdown",
   "metadata": {},
   "source": [
    "Scanpy reads data into a special data structure called an AnnData object, which is really just a combination of numpy arrays and pandas dataframes layered together."
   ]
  },
  {
   "cell_type": "code",
   "execution_count": 5,
   "metadata": {},
   "outputs": [
    {
     "data": {
      "text/plain": [
       "AnnData object with n_obs × n_vars = 10606 × 32285\n",
       "    var: 'gene_ids', 'feature_types'"
      ]
     },
     "execution_count": 5,
     "metadata": {},
     "output_type": "execute_result"
    }
   ],
   "source": [
    "Fezf2_WT_data"
   ]
  },
  {
   "cell_type": "markdown",
   "metadata": {},
   "source": [
    "In an AnnData, 'obs' (observations) corresponds to cells and 'var' (variables) corresponds to genes. Therefore the 'obs' attribute of an AnnData is a pandas dataframe used to store cell data (i.e. barcodes, sample information, cell types, etc) and the 'var' attribute is a pandas dataframe used to store gene data."
   ]
  },
  {
   "cell_type": "code",
   "execution_count": 6,
   "metadata": {},
   "outputs": [
    {
     "data": {
      "text/html": [
       "<div>\n",
       "<style scoped>\n",
       "    .dataframe tbody tr th:only-of-type {\n",
       "        vertical-align: middle;\n",
       "    }\n",
       "\n",
       "    .dataframe tbody tr th {\n",
       "        vertical-align: top;\n",
       "    }\n",
       "\n",
       "    .dataframe thead th {\n",
       "        text-align: right;\n",
       "    }\n",
       "</style>\n",
       "<table border=\"1\" class=\"dataframe\">\n",
       "  <thead>\n",
       "    <tr style=\"text-align: right;\">\n",
       "      <th></th>\n",
       "    </tr>\n",
       "  </thead>\n",
       "  <tbody>\n",
       "    <tr>\n",
       "      <th>AAACCCAAGCATACTC-1</th>\n",
       "    </tr>\n",
       "    <tr>\n",
       "      <th>AAACCCAAGCATGCAG-1</th>\n",
       "    </tr>\n",
       "    <tr>\n",
       "      <th>AAACCCACAAGACCGA-1</th>\n",
       "    </tr>\n",
       "    <tr>\n",
       "      <th>AAACCCACAAGATTGA-1</th>\n",
       "    </tr>\n",
       "    <tr>\n",
       "      <th>AAACCCACACGACGAA-1</th>\n",
       "    </tr>\n",
       "    <tr>\n",
       "      <th>...</th>\n",
       "    </tr>\n",
       "    <tr>\n",
       "      <th>TTTGTTGCAGCCTACG-1</th>\n",
       "    </tr>\n",
       "    <tr>\n",
       "      <th>TTTGTTGGTACAAGTA-1</th>\n",
       "    </tr>\n",
       "    <tr>\n",
       "      <th>TTTGTTGGTCGCACGT-1</th>\n",
       "    </tr>\n",
       "    <tr>\n",
       "      <th>TTTGTTGGTGAGATTA-1</th>\n",
       "    </tr>\n",
       "    <tr>\n",
       "      <th>TTTGTTGTCGTAGCCG-1</th>\n",
       "    </tr>\n",
       "  </tbody>\n",
       "</table>\n",
       "<p>10606 rows × 0 columns</p>\n",
       "</div>"
      ],
      "text/plain": [
       "Empty DataFrame\n",
       "Columns: []\n",
       "Index: [AAACCCAAGCATACTC-1, AAACCCAAGCATGCAG-1, AAACCCACAAGACCGA-1, AAACCCACAAGATTGA-1, AAACCCACACGACGAA-1, AAACCCACACTGAATC-1, AAACCCAGTTCGGCTG-1, AAACCCATCACCTCAC-1, AAACCCATCATGAGTC-1, AAACCCATCCAAGCCG-1, AAACCCATCGACGCTG-1, AAACCCATCTATTGTC-1, AAACCCATCTGTAAGC-1, AAACGAAAGGTTGTTC-1, AAACGAACAAAGGGCT-1, AAACGAACACCCGTAG-1, AAACGAACACCTGTCT-1, AAACGAACATGAGATA-1, AAACGAAGTAAGACCG-1, AAACGAAGTACAACGG-1, AAACGAAGTAGTCCTA-1, AAACGAAGTGATACTC-1, AAACGAAGTGTCATTG-1, AAACGAAGTGTTGATC-1, AAACGAAGTTACACAC-1, AAACGAATCAAGCTGT-1, AAACGAATCGCAGATT-1, AAACGAATCTCGAGTA-1, AAACGCTGTAATGTGA-1, AAACGCTGTAGAGGAA-1, AAACGCTGTCATCGGC-1, AAACGCTGTGACAACG-1, AAACGCTGTGACAGCA-1, AAACGCTGTGGTCCGT-1, AAACGCTGTTAAAGTG-1, AAACGCTTCAAGGCTT-1, AAACGCTTCATTCGGA-1, AAACGCTTCGAAGGAC-1, AAACGCTTCGTTAGAC-1, AAAGAACAGAGTCAAT-1, AAAGAACAGCCGCACT-1, AAAGAACGTAACAAGT-1, AAAGAACGTTGTAAAG-1, AAAGAACTCTCTCAAT-1, AAAGAACTCTGCGGCA-1, AAAGGATAGCCACAAG-1, AAAGGATAGGAGGGTG-1, AAAGGATAGGAGTACC-1, AAAGGATCAAGTGATA-1, AAAGGATCAGGATTCT-1, AAAGGATCATAGGCGA-1, AAAGGATGTACAATAG-1, AAAGGATGTTTGCAGT-1, AAAGGATTCATTCCTA-1, AAAGGATTCGCTCATC-1, AAAGGGCAGAACCGCA-1, AAAGGGCAGCACCGAA-1, AAAGGGCAGTTAACGA-1, AAAGGGCGTTACTCAG-1, AAAGGGCGTTATGTGC-1, AAAGGGCGTTCGGCTG-1, AAAGGGCTCCGTGGGT-1, AAAGGTAAGGCTCAAG-1, AAAGGTAAGGGACACT-1, AAAGGTAAGGGAGTTC-1, AAAGGTACAAAGGTTA-1, AAAGGTACAGAACATA-1, AAAGGTACAGCTGCCA-1, AAAGGTACATGAAGGC-1, AAAGGTAGTCGAACAG-1, AAAGGTAGTCTAATCG-1, AAAGGTAGTCTTACTT-1, AAAGGTAGTTGGACCC-1, AAAGGTATCATCGCAA-1, AAAGGTATCTTGCGCT-1, AAAGTCCCAATCTAGC-1, AAAGTCCCACGGTGTC-1, AAAGTCCCACTACACA-1, AAAGTCCGTACTGGGA-1, AAAGTCCTCAGAGCAG-1, AAAGTCCTCCCGTGAG-1, AAAGTCCTCCCGTGTT-1, AAAGTCCTCGCCCAGA-1, AAAGTCCTCTCCCAAC-1, AAAGTCCTCTGAGATC-1, AAAGTGAAGACAAGCC-1, AAAGTGAAGAGTGACC-1, AAAGTGAAGCGGTATG-1, AAAGTGAAGTGTAGAT-1, AAAGTGACAAGTACCT-1, AAAGTGACAATGTCAC-1, AAAGTGACACTCCTGT-1, AAAGTGACAGCGTGAA-1, AAAGTGATCATCGGGC-1, AAATGGAAGAGGATGA-1, AAATGGAAGCGCTGCT-1, AAATGGAAGGGCATGT-1, AAATGGAAGGTACCTT-1, AAATGGACAAGAAACT-1, AAATGGACACTCAAGT-1, ...]\n",
       "\n",
       "[10606 rows x 0 columns]"
      ]
     },
     "execution_count": 6,
     "metadata": {},
     "output_type": "execute_result"
    }
   ],
   "source": [
    "Fezf2_WT_data.obs # initially the obs attribute is empty with the index set to the list of cell barcodes"
   ]
  },
  {
   "cell_type": "markdown",
   "metadata": {},
   "source": [
    "You can add cell metadata to the 'obs' dataframe by adding columns with the corresponding per cell data as you would to any other pandas dataframe"
   ]
  },
  {
   "cell_type": "code",
   "execution_count": 7,
   "metadata": {},
   "outputs": [],
   "source": [
    "Fezf2_WT_data.obs[\"genotype\"] = \"WT\"\n",
    "Fezf2_KO_data.obs[\"genotype\"] = \"Fezf2_KO\""
   ]
  },
  {
   "cell_type": "code",
   "execution_count": 8,
   "metadata": {},
   "outputs": [
    {
     "data": {
      "text/html": [
       "<div>\n",
       "<style scoped>\n",
       "    .dataframe tbody tr th:only-of-type {\n",
       "        vertical-align: middle;\n",
       "    }\n",
       "\n",
       "    .dataframe tbody tr th {\n",
       "        vertical-align: top;\n",
       "    }\n",
       "\n",
       "    .dataframe thead th {\n",
       "        text-align: right;\n",
       "    }\n",
       "</style>\n",
       "<table border=\"1\" class=\"dataframe\">\n",
       "  <thead>\n",
       "    <tr style=\"text-align: right;\">\n",
       "      <th></th>\n",
       "      <th>genotype</th>\n",
       "    </tr>\n",
       "  </thead>\n",
       "  <tbody>\n",
       "    <tr>\n",
       "      <th>AAACCCAAGCATACTC-1</th>\n",
       "      <td>WT</td>\n",
       "    </tr>\n",
       "    <tr>\n",
       "      <th>AAACCCAAGCATGCAG-1</th>\n",
       "      <td>WT</td>\n",
       "    </tr>\n",
       "    <tr>\n",
       "      <th>AAACCCACAAGACCGA-1</th>\n",
       "      <td>WT</td>\n",
       "    </tr>\n",
       "    <tr>\n",
       "      <th>AAACCCACAAGATTGA-1</th>\n",
       "      <td>WT</td>\n",
       "    </tr>\n",
       "    <tr>\n",
       "      <th>AAACCCACACGACGAA-1</th>\n",
       "      <td>WT</td>\n",
       "    </tr>\n",
       "    <tr>\n",
       "      <th>...</th>\n",
       "      <td>...</td>\n",
       "    </tr>\n",
       "    <tr>\n",
       "      <th>TTTGTTGCAGCCTACG-1</th>\n",
       "      <td>WT</td>\n",
       "    </tr>\n",
       "    <tr>\n",
       "      <th>TTTGTTGGTACAAGTA-1</th>\n",
       "      <td>WT</td>\n",
       "    </tr>\n",
       "    <tr>\n",
       "      <th>TTTGTTGGTCGCACGT-1</th>\n",
       "      <td>WT</td>\n",
       "    </tr>\n",
       "    <tr>\n",
       "      <th>TTTGTTGGTGAGATTA-1</th>\n",
       "      <td>WT</td>\n",
       "    </tr>\n",
       "    <tr>\n",
       "      <th>TTTGTTGTCGTAGCCG-1</th>\n",
       "      <td>WT</td>\n",
       "    </tr>\n",
       "  </tbody>\n",
       "</table>\n",
       "<p>10606 rows × 1 columns</p>\n",
       "</div>"
      ],
      "text/plain": [
       "                   genotype\n",
       "AAACCCAAGCATACTC-1       WT\n",
       "AAACCCAAGCATGCAG-1       WT\n",
       "AAACCCACAAGACCGA-1       WT\n",
       "AAACCCACAAGATTGA-1       WT\n",
       "AAACCCACACGACGAA-1       WT\n",
       "...                     ...\n",
       "TTTGTTGCAGCCTACG-1       WT\n",
       "TTTGTTGGTACAAGTA-1       WT\n",
       "TTTGTTGGTCGCACGT-1       WT\n",
       "TTTGTTGGTGAGATTA-1       WT\n",
       "TTTGTTGTCGTAGCCG-1       WT\n",
       "\n",
       "[10606 rows x 1 columns]"
      ]
     },
     "execution_count": 8,
     "metadata": {},
     "output_type": "execute_result"
    }
   ],
   "source": [
    "Fezf2_WT_data.obs"
   ]
  },
  {
   "cell_type": "markdown",
   "metadata": {},
   "source": [
    "The 'var' dataframe can be interacted with the same way"
   ]
  },
  {
   "cell_type": "code",
   "execution_count": 9,
   "metadata": {},
   "outputs": [
    {
     "data": {
      "text/html": [
       "<div>\n",
       "<style scoped>\n",
       "    .dataframe tbody tr th:only-of-type {\n",
       "        vertical-align: middle;\n",
       "    }\n",
       "\n",
       "    .dataframe tbody tr th {\n",
       "        vertical-align: top;\n",
       "    }\n",
       "\n",
       "    .dataframe thead th {\n",
       "        text-align: right;\n",
       "    }\n",
       "</style>\n",
       "<table border=\"1\" class=\"dataframe\">\n",
       "  <thead>\n",
       "    <tr style=\"text-align: right;\">\n",
       "      <th></th>\n",
       "      <th>gene_ids</th>\n",
       "      <th>feature_types</th>\n",
       "    </tr>\n",
       "  </thead>\n",
       "  <tbody>\n",
       "    <tr>\n",
       "      <th>Xkr4</th>\n",
       "      <td>ENSMUSG00000051951</td>\n",
       "      <td>Gene Expression</td>\n",
       "    </tr>\n",
       "    <tr>\n",
       "      <th>Gm1992</th>\n",
       "      <td>ENSMUSG00000089699</td>\n",
       "      <td>Gene Expression</td>\n",
       "    </tr>\n",
       "    <tr>\n",
       "      <th>Gm19938</th>\n",
       "      <td>ENSMUSG00000102331</td>\n",
       "      <td>Gene Expression</td>\n",
       "    </tr>\n",
       "    <tr>\n",
       "      <th>Gm37381</th>\n",
       "      <td>ENSMUSG00000102343</td>\n",
       "      <td>Gene Expression</td>\n",
       "    </tr>\n",
       "    <tr>\n",
       "      <th>Rp1</th>\n",
       "      <td>ENSMUSG00000025900</td>\n",
       "      <td>Gene Expression</td>\n",
       "    </tr>\n",
       "    <tr>\n",
       "      <th>...</th>\n",
       "      <td>...</td>\n",
       "      <td>...</td>\n",
       "    </tr>\n",
       "    <tr>\n",
       "      <th>AC124606.1</th>\n",
       "      <td>ENSMUSG00000095523</td>\n",
       "      <td>Gene Expression</td>\n",
       "    </tr>\n",
       "    <tr>\n",
       "      <th>AC133095.2</th>\n",
       "      <td>ENSMUSG00000095475</td>\n",
       "      <td>Gene Expression</td>\n",
       "    </tr>\n",
       "    <tr>\n",
       "      <th>AC133095.1</th>\n",
       "      <td>ENSMUSG00000094855</td>\n",
       "      <td>Gene Expression</td>\n",
       "    </tr>\n",
       "    <tr>\n",
       "      <th>AC234645.1</th>\n",
       "      <td>ENSMUSG00000095019</td>\n",
       "      <td>Gene Expression</td>\n",
       "    </tr>\n",
       "    <tr>\n",
       "      <th>AC149090.1</th>\n",
       "      <td>ENSMUSG00000095041</td>\n",
       "      <td>Gene Expression</td>\n",
       "    </tr>\n",
       "  </tbody>\n",
       "</table>\n",
       "<p>32285 rows × 2 columns</p>\n",
       "</div>"
      ],
      "text/plain": [
       "                      gene_ids    feature_types\n",
       "Xkr4        ENSMUSG00000051951  Gene Expression\n",
       "Gm1992      ENSMUSG00000089699  Gene Expression\n",
       "Gm19938     ENSMUSG00000102331  Gene Expression\n",
       "Gm37381     ENSMUSG00000102343  Gene Expression\n",
       "Rp1         ENSMUSG00000025900  Gene Expression\n",
       "...                        ...              ...\n",
       "AC124606.1  ENSMUSG00000095523  Gene Expression\n",
       "AC133095.2  ENSMUSG00000095475  Gene Expression\n",
       "AC133095.1  ENSMUSG00000094855  Gene Expression\n",
       "AC234645.1  ENSMUSG00000095019  Gene Expression\n",
       "AC149090.1  ENSMUSG00000095041  Gene Expression\n",
       "\n",
       "[32285 rows x 2 columns]"
      ]
     },
     "execution_count": 9,
     "metadata": {},
     "output_type": "execute_result"
    }
   ],
   "source": [
    "Fezf2_WT_data.var"
   ]
  },
  {
   "cell_type": "markdown",
   "metadata": {},
   "source": [
    "The 'X' attribute of an AnnData object is a numpy array used to store a cell by gene matrix containing expression data "
   ]
  },
  {
   "cell_type": "code",
   "execution_count": 10,
   "metadata": {},
   "outputs": [
    {
     "data": {
      "text/plain": [
       "<10606x32285 sparse matrix of type '<class 'numpy.float32'>'\n",
       "\twith 30230394 stored elements in Compressed Sparse Row format>"
      ]
     },
     "execution_count": 10,
     "metadata": {},
     "output_type": "execute_result"
    }
   ],
   "source": [
    "Fezf2_WT_data.X"
   ]
  },
  {
   "cell_type": "markdown",
   "metadata": {},
   "source": [
    "This starts out as a sparse matrix (contains mostly 0s) because the raw data output from cellranger in the matrix are integers corresponding to the number of reads aligned to a particular gene in a particular cells, which will mostly be 0 as most genes are only detected in a few cells."
   ]
  },
  {
   "cell_type": "code",
   "execution_count": 11,
   "metadata": {},
   "outputs": [
    {
     "data": {
      "text/plain": [
       "matrix([[0., 0., 0., ..., 0., 0., 0.],\n",
       "        [0., 0., 0., ..., 0., 0., 0.],\n",
       "        [0., 0., 0., ..., 0., 0., 6.],\n",
       "        ...,\n",
       "        [0., 0., 0., ..., 0., 0., 0.],\n",
       "        [0., 0., 0., ..., 0., 0., 0.],\n",
       "        [0., 0., 0., ..., 0., 0., 0.]], dtype=float32)"
      ]
     },
     "execution_count": 11,
     "metadata": {},
     "output_type": "execute_result"
    }
   ],
   "source": [
    "Fezf2_WT_data.X.todense()"
   ]
  },
  {
   "cell_type": "markdown",
   "metadata": {},
   "source": [
    "Expression data can also be stored in the 'layers' attribute where you can create copies of the 'X' attribute to store for future use. Typically you will want to immediately save a copy of the X attribute to a 'raw counts' layer after reading in a sample to preserve the raw detected gene counts prior to doing any normalization"
   ]
  },
  {
   "cell_type": "code",
   "execution_count": 12,
   "metadata": {},
   "outputs": [],
   "source": [
    "Fezf2_WT_data.layers[\"raw_counts\"] = Fezf2_WT_data.X.copy()\n",
    "Fezf2_KO_data.layers[\"raw_counts\"] = Fezf2_KO_data.X.copy()"
   ]
  },
  {
   "cell_type": "code",
   "execution_count": 13,
   "metadata": {},
   "outputs": [
    {
     "data": {
      "text/plain": [
       "AnnData object with n_obs × n_vars = 10606 × 32285\n",
       "    obs: 'genotype'\n",
       "    var: 'gene_ids', 'feature_types'\n",
       "    layers: 'raw_counts'"
      ]
     },
     "execution_count": 13,
     "metadata": {},
     "output_type": "execute_result"
    }
   ],
   "source": [
    "Fezf2_WT_data"
   ]
  },
  {
   "cell_type": "markdown",
   "metadata": {},
   "source": [
    "## Merging multiple samples"
   ]
  },
  {
   "cell_type": "markdown",
   "metadata": {},
   "source": [
    "When collecting multiple samples, the cellranger output for each sample will need to be read into individual AnnData objects and then concatenated together using:"
   ]
  },
  {
   "cell_type": "code",
   "execution_count": 14,
   "metadata": {},
   "outputs": [],
   "source": [
    "adata = ad.concat([Fezf2_WT_data, Fezf2_KO_data], index_unique=\"-\", keys=[\"WT\", \"Fezf2_KO\"])"
   ]
  },
  {
   "cell_type": "markdown",
   "metadata": {},
   "source": [
    "'index_unique' and 'keys' are used to ensure the cell barcodes are unique across samples, so the new index of the merged dataframe will append the key corresponding to each sample to that sample's cell barcodes"
   ]
  },
  {
   "cell_type": "code",
   "execution_count": 15,
   "metadata": {},
   "outputs": [
    {
     "data": {
      "text/html": [
       "<div>\n",
       "<style scoped>\n",
       "    .dataframe tbody tr th:only-of-type {\n",
       "        vertical-align: middle;\n",
       "    }\n",
       "\n",
       "    .dataframe tbody tr th {\n",
       "        vertical-align: top;\n",
       "    }\n",
       "\n",
       "    .dataframe thead th {\n",
       "        text-align: right;\n",
       "    }\n",
       "</style>\n",
       "<table border=\"1\" class=\"dataframe\">\n",
       "  <thead>\n",
       "    <tr style=\"text-align: right;\">\n",
       "      <th></th>\n",
       "      <th>genotype</th>\n",
       "    </tr>\n",
       "  </thead>\n",
       "  <tbody>\n",
       "    <tr>\n",
       "      <th>AAACCCAAGCATACTC-1-WT</th>\n",
       "      <td>WT</td>\n",
       "    </tr>\n",
       "    <tr>\n",
       "      <th>AAACCCAAGCATGCAG-1-WT</th>\n",
       "      <td>WT</td>\n",
       "    </tr>\n",
       "    <tr>\n",
       "      <th>AAACCCACAAGACCGA-1-WT</th>\n",
       "      <td>WT</td>\n",
       "    </tr>\n",
       "    <tr>\n",
       "      <th>AAACCCACAAGATTGA-1-WT</th>\n",
       "      <td>WT</td>\n",
       "    </tr>\n",
       "    <tr>\n",
       "      <th>AAACCCACACGACGAA-1-WT</th>\n",
       "      <td>WT</td>\n",
       "    </tr>\n",
       "    <tr>\n",
       "      <th>...</th>\n",
       "      <td>...</td>\n",
       "    </tr>\n",
       "    <tr>\n",
       "      <th>TTTGTTGGTGAATTAG-1-Fezf2_KO</th>\n",
       "      <td>Fezf2_KO</td>\n",
       "    </tr>\n",
       "    <tr>\n",
       "      <th>TTTGTTGGTGTCGCTG-1-Fezf2_KO</th>\n",
       "      <td>Fezf2_KO</td>\n",
       "    </tr>\n",
       "    <tr>\n",
       "      <th>TTTGTTGTCACGGGCT-1-Fezf2_KO</th>\n",
       "      <td>Fezf2_KO</td>\n",
       "    </tr>\n",
       "    <tr>\n",
       "      <th>TTTGTTGTCTAGACAC-1-Fezf2_KO</th>\n",
       "      <td>Fezf2_KO</td>\n",
       "    </tr>\n",
       "    <tr>\n",
       "      <th>TTTGTTGTCTAGACCA-1-Fezf2_KO</th>\n",
       "      <td>Fezf2_KO</td>\n",
       "    </tr>\n",
       "  </tbody>\n",
       "</table>\n",
       "<p>22416 rows × 1 columns</p>\n",
       "</div>"
      ],
      "text/plain": [
       "                             genotype\n",
       "AAACCCAAGCATACTC-1-WT              WT\n",
       "AAACCCAAGCATGCAG-1-WT              WT\n",
       "AAACCCACAAGACCGA-1-WT              WT\n",
       "AAACCCACAAGATTGA-1-WT              WT\n",
       "AAACCCACACGACGAA-1-WT              WT\n",
       "...                               ...\n",
       "TTTGTTGGTGAATTAG-1-Fezf2_KO  Fezf2_KO\n",
       "TTTGTTGGTGTCGCTG-1-Fezf2_KO  Fezf2_KO\n",
       "TTTGTTGTCACGGGCT-1-Fezf2_KO  Fezf2_KO\n",
       "TTTGTTGTCTAGACAC-1-Fezf2_KO  Fezf2_KO\n",
       "TTTGTTGTCTAGACCA-1-Fezf2_KO  Fezf2_KO\n",
       "\n",
       "[22416 rows x 1 columns]"
      ]
     },
     "execution_count": 15,
     "metadata": {},
     "output_type": "execute_result"
    }
   ],
   "source": [
    "adata.obs"
   ]
  },
  {
   "cell_type": "code",
   "execution_count": 16,
   "metadata": {},
   "outputs": [
    {
     "data": {
      "text/plain": [
       "AnnData object with n_obs × n_vars = 22416 × 32285\n",
       "    obs: 'genotype'\n",
       "    layers: 'raw_counts'"
      ]
     },
     "execution_count": 16,
     "metadata": {},
     "output_type": "execute_result"
    }
   ],
   "source": [
    "adata # Now both the WT and Fezf2 KO samples are in a single AnnData object"
   ]
  },
  {
   "cell_type": "markdown",
   "metadata": {},
   "source": [
    "The 'label' parameter can also be used to create a new columnb in the merged 'obs' attribute containing the sample keys. This can be done instead of manually adding sample keys prior to merging the samples together, as was done above."
   ]
  },
  {
   "cell_type": "code",
   "execution_count": 17,
   "metadata": {},
   "outputs": [],
   "source": [
    "adata = ad.concat([Fezf2_WT_data, Fezf2_KO_data], index_unique=\"-\", keys=[\"WT\", \"Fezf2_KO\"], label=\"batch\")"
   ]
  },
  {
   "cell_type": "code",
   "execution_count": 18,
   "metadata": {},
   "outputs": [
    {
     "data": {
      "text/html": [
       "<div>\n",
       "<style scoped>\n",
       "    .dataframe tbody tr th:only-of-type {\n",
       "        vertical-align: middle;\n",
       "    }\n",
       "\n",
       "    .dataframe tbody tr th {\n",
       "        vertical-align: top;\n",
       "    }\n",
       "\n",
       "    .dataframe thead th {\n",
       "        text-align: right;\n",
       "    }\n",
       "</style>\n",
       "<table border=\"1\" class=\"dataframe\">\n",
       "  <thead>\n",
       "    <tr style=\"text-align: right;\">\n",
       "      <th></th>\n",
       "      <th>genotype</th>\n",
       "      <th>batch</th>\n",
       "    </tr>\n",
       "  </thead>\n",
       "  <tbody>\n",
       "    <tr>\n",
       "      <th>AAACCCAAGCATACTC-1-WT</th>\n",
       "      <td>WT</td>\n",
       "      <td>WT</td>\n",
       "    </tr>\n",
       "    <tr>\n",
       "      <th>AAACCCAAGCATGCAG-1-WT</th>\n",
       "      <td>WT</td>\n",
       "      <td>WT</td>\n",
       "    </tr>\n",
       "    <tr>\n",
       "      <th>AAACCCACAAGACCGA-1-WT</th>\n",
       "      <td>WT</td>\n",
       "      <td>WT</td>\n",
       "    </tr>\n",
       "    <tr>\n",
       "      <th>AAACCCACAAGATTGA-1-WT</th>\n",
       "      <td>WT</td>\n",
       "      <td>WT</td>\n",
       "    </tr>\n",
       "    <tr>\n",
       "      <th>AAACCCACACGACGAA-1-WT</th>\n",
       "      <td>WT</td>\n",
       "      <td>WT</td>\n",
       "    </tr>\n",
       "    <tr>\n",
       "      <th>...</th>\n",
       "      <td>...</td>\n",
       "      <td>...</td>\n",
       "    </tr>\n",
       "    <tr>\n",
       "      <th>TTTGTTGGTGAATTAG-1-Fezf2_KO</th>\n",
       "      <td>Fezf2_KO</td>\n",
       "      <td>Fezf2_KO</td>\n",
       "    </tr>\n",
       "    <tr>\n",
       "      <th>TTTGTTGGTGTCGCTG-1-Fezf2_KO</th>\n",
       "      <td>Fezf2_KO</td>\n",
       "      <td>Fezf2_KO</td>\n",
       "    </tr>\n",
       "    <tr>\n",
       "      <th>TTTGTTGTCACGGGCT-1-Fezf2_KO</th>\n",
       "      <td>Fezf2_KO</td>\n",
       "      <td>Fezf2_KO</td>\n",
       "    </tr>\n",
       "    <tr>\n",
       "      <th>TTTGTTGTCTAGACAC-1-Fezf2_KO</th>\n",
       "      <td>Fezf2_KO</td>\n",
       "      <td>Fezf2_KO</td>\n",
       "    </tr>\n",
       "    <tr>\n",
       "      <th>TTTGTTGTCTAGACCA-1-Fezf2_KO</th>\n",
       "      <td>Fezf2_KO</td>\n",
       "      <td>Fezf2_KO</td>\n",
       "    </tr>\n",
       "  </tbody>\n",
       "</table>\n",
       "<p>22416 rows × 2 columns</p>\n",
       "</div>"
      ],
      "text/plain": [
       "                             genotype     batch\n",
       "AAACCCAAGCATACTC-1-WT              WT        WT\n",
       "AAACCCAAGCATGCAG-1-WT              WT        WT\n",
       "AAACCCACAAGACCGA-1-WT              WT        WT\n",
       "AAACCCACAAGATTGA-1-WT              WT        WT\n",
       "AAACCCACACGACGAA-1-WT              WT        WT\n",
       "...                               ...       ...\n",
       "TTTGTTGGTGAATTAG-1-Fezf2_KO  Fezf2_KO  Fezf2_KO\n",
       "TTTGTTGGTGTCGCTG-1-Fezf2_KO  Fezf2_KO  Fezf2_KO\n",
       "TTTGTTGTCACGGGCT-1-Fezf2_KO  Fezf2_KO  Fezf2_KO\n",
       "TTTGTTGTCTAGACAC-1-Fezf2_KO  Fezf2_KO  Fezf2_KO\n",
       "TTTGTTGTCTAGACCA-1-Fezf2_KO  Fezf2_KO  Fezf2_KO\n",
       "\n",
       "[22416 rows x 2 columns]"
      ]
     },
     "execution_count": 18,
     "metadata": {},
     "output_type": "execute_result"
    }
   ],
   "source": [
    "adata.obs"
   ]
  },
  {
   "cell_type": "markdown",
   "metadata": {},
   "source": [
    "## Preprocessing steps"
   ]
  },
  {
   "cell_type": "markdown",
   "metadata": {},
   "source": [
    "### Doublet removal"
   ]
  },
  {
   "cell_type": "markdown",
   "metadata": {},
   "source": [
    "The first quality control preprocessing step is to remove any potential doublets/multiplets (cells that were coencapuslated together during sample prep) from the dataset. This is done using the scrublet algorithm which creates simulated doublets by randomly mashing together cells in your dataset and comparing each of cell to these simulated doublets to score how likely they are to be a doublet. This must be run seperately across samples (it is impossible for a doublet to contain cells in different samples) and the doublet score threshold used should be iteratively set to ssplit the bimodal distributions of scores observed in the output. In practice this step rarely has a significant impact on downstream analyses as cellranger has already done some preliminary quality control filtering."
   ]
  },
  {
   "cell_type": "code",
   "execution_count": 19,
   "metadata": {},
   "outputs": [
    {
     "name": "stdout",
     "output_type": "stream",
     "text": [
      "Preprocessing...\n",
      "Simulating doublets...\n",
      "Embedding transcriptomes using PCA...\n",
      "Calculating doublet scores...\n",
      "Automatically set threshold at doublet score = 0.59\n",
      "Detected doublet rate = 0.0%\n",
      "Estimated detectable doublet fraction = 0.0%\n",
      "Overall doublet rate:\n",
      "\tExpected   = 6.0%\n",
      "\tEstimated  = 0.0%\n",
      "Elapsed time: 9.2 seconds\n",
      "Detected doublet rate = 0.3%\n",
      "Estimated detectable doublet fraction = 3.6%\n",
      "Overall doublet rate:\n",
      "\tExpected   = 6.0%\n",
      "\tEstimated  = 7.1%\n",
      "Preprocessing...\n",
      "Simulating doublets...\n",
      "Embedding transcriptomes using PCA...\n",
      "Calculating doublet scores...\n",
      "Automatically set threshold at doublet score = 0.54\n",
      "Detected doublet rate = 0.0%\n",
      "Estimated detectable doublet fraction = 0.0%\n",
      "Overall doublet rate:\n",
      "\tExpected   = 6.0%\n",
      "\tEstimated  = 0.0%\n",
      "Elapsed time: 10.7 seconds\n",
      "Detected doublet rate = 0.3%\n",
      "Estimated detectable doublet fraction = 2.1%\n",
      "Overall doublet rate:\n",
      "\tExpected   = 6.0%\n",
      "\tEstimated  = 13.3%\n"
     ]
    },
    {
     "data": {
      "image/png": "[encoded data removed]",
      "text/plain": [
       "<Figure size 800x300 with 2 Axes>"
      ]
     },
     "metadata": {},
     "output_type": "display_data"
    },
    {
     "data": {
      "image/png": "[encoded data removed]",
      "text/plain": [
       "<Figure size 800x300 with 2 Axes>"
      ]
     },
     "metadata": {},
     "output_type": "display_data"
    }
   ],
   "source": [
    "adata = rna.qc.scrublet(\n",
    "    adata,\n",
    "    doublet_threshold = 0.3, # Score threshold to use to call doublets\n",
    "    batch_key = \"genotype\", # Use batch information from a column in 'adata.obs' to run scrublet on each batch independently\n",
    "    raw_counts_layer = \"raw_counts\" # use the raw counts data\n",
    ")"
   ]
  },
  {
   "cell_type": "markdown",
   "metadata": {},
   "source": [
    "The output of scrublet scoring is stored in a column in the 'obs' attribute that classifies cells as either being doublets or singlets."
   ]
  },
  {
   "cell_type": "code",
   "execution_count": 20,
   "metadata": {},
   "outputs": [
    {
     "data": {
      "text/plain": [
       "scrublet_called_doublet\n",
       "False    22356\n",
       "True        60\n",
       "Name: count, dtype: int64"
      ]
     },
     "execution_count": 20,
     "metadata": {},
     "output_type": "execute_result"
    }
   ],
   "source": [
    "adata.obs.scrublet_called_doublet.value_counts()"
   ]
  },
  {
   "cell_type": "markdown",
   "metadata": {},
   "source": [
    "The AnnData object then has to be filterd on only cells that are not called doublets using scrublet"
   ]
  },
  {
   "cell_type": "code",
   "execution_count": 21,
   "metadata": {},
   "outputs": [],
   "source": [
    "adata = adata[~adata.obs.scrublet_called_doublet]"
   ]
  },
  {
   "cell_type": "code",
   "execution_count": 22,
   "metadata": {},
   "outputs": [
    {
     "data": {
      "text/plain": [
       "scrublet_called_doublet\n",
       "False    22356\n",
       "Name: count, dtype: int64"
      ]
     },
     "execution_count": 22,
     "metadata": {},
     "output_type": "execute_result"
    }
   ],
   "source": [
    "adata.obs.scrublet_called_doublet.value_counts()"
   ]
  },
  {
   "cell_type": "code",
   "execution_count": 23,
   "metadata": {},
   "outputs": [
    {
     "data": {
      "text/plain": [
       "View of AnnData object with n_obs × n_vars = 22356 × 32285\n",
       "    obs: 'genotype', 'batch', 'scrublet_score', 'scrublet_called_doublet'\n",
       "    layers: 'raw_counts'"
      ]
     },
     "execution_count": 23,
     "metadata": {},
     "output_type": "execute_result"
    }
   ],
   "source": [
    "adata"
   ]
  },
  {
   "cell_type": "markdown",
   "metadata": {},
   "source": [
    "### Basic quality control"
   ]
  },
  {
   "cell_type": "markdown",
   "metadata": {},
   "source": [
    "Additinal quality control metrics can ba calculated and filtered on using scanpy"
   ]
  },
  {
   "cell_type": "markdown",
   "metadata": {},
   "source": [
    "#### Annotate mitochondrial genes"
   ]
  },
  {
   "cell_type": "markdown",
   "metadata": {},
   "source": [
    "First, mitochondrial genes have to be annotated, using their unique starting symbols (mt- in mouse and Mt- in human)."
   ]
  },
  {
   "cell_type": "code",
   "execution_count": 24,
   "metadata": {},
   "outputs": [
    {
     "name": "stderr",
     "output_type": "stream",
     "text": [
      "/tmp/ipykernel_665004/3581367006.py:1: ImplicitModificationWarning: Trying to modify attribute `.var` of view, initializing view as actual.\n",
      "  adata.var[\"mt\"] = adata.var_names.str.startswith(\"mt-\")\n"
     ]
    }
   ],
   "source": [
    "adata.var[\"mt\"] = adata.var_names.str.startswith(\"mt-\")\n",
    "# For human data:\n",
    "# adata.var[\"mt\"] = adata.var_names.str.startswith(\"Mt-\")"
   ]
  },
  {
   "cell_type": "markdown",
   "metadata": {},
   "source": [
    "#### calculate per-cell, per-gene quality metrics with scanpy"
   ]
  },
  {
   "cell_type": "markdown",
   "metadata": {},
   "source": [
    "Then scanpy iss used to calculate the percent mitochondrial counts, total counts, and number of genes per cell; as well as the total counts, number of cells, mean counts, and percent dropout per gene."
   ]
  },
  {
   "cell_type": "code",
   "execution_count": 25,
   "metadata": {},
   "outputs": [],
   "source": [
    "sc.pp.calculate_qc_metrics(adata, qc_vars=[\"mt\"], inplace=True, percent_top=None, log1p=False,)"
   ]
  },
  {
   "cell_type": "code",
   "execution_count": 26,
   "metadata": {},
   "outputs": [
    {
     "data": {
      "text/html": [
       "<div>\n",
       "<style scoped>\n",
       "    .dataframe tbody tr th:only-of-type {\n",
       "        vertical-align: middle;\n",
       "    }\n",
       "\n",
       "    .dataframe tbody tr th {\n",
       "        vertical-align: top;\n",
       "    }\n",
       "\n",
       "    .dataframe thead th {\n",
       "        text-align: right;\n",
       "    }\n",
       "</style>\n",
       "<table border=\"1\" class=\"dataframe\">\n",
       "  <thead>\n",
       "    <tr style=\"text-align: right;\">\n",
       "      <th></th>\n",
       "      <th>genotype</th>\n",
       "      <th>batch</th>\n",
       "      <th>scrublet_score</th>\n",
       "      <th>scrublet_called_doublet</th>\n",
       "      <th>n_genes_by_counts</th>\n",
       "      <th>total_counts</th>\n",
       "      <th>total_counts_mt</th>\n",
       "      <th>pct_counts_mt</th>\n",
       "    </tr>\n",
       "  </thead>\n",
       "  <tbody>\n",
       "    <tr>\n",
       "      <th>AAACCCAAGCATACTC-1-WT</th>\n",
       "      <td>WT</td>\n",
       "      <td>WT</td>\n",
       "      <td>0.009908</td>\n",
       "      <td>False</td>\n",
       "      <td>205</td>\n",
       "      <td>707.0</td>\n",
       "      <td>446.0</td>\n",
       "      <td>63.083450</td>\n",
       "    </tr>\n",
       "    <tr>\n",
       "      <th>AAACCCAAGCATGCAG-1-WT</th>\n",
       "      <td>WT</td>\n",
       "      <td>WT</td>\n",
       "      <td>0.020833</td>\n",
       "      <td>False</td>\n",
       "      <td>250</td>\n",
       "      <td>586.0</td>\n",
       "      <td>274.0</td>\n",
       "      <td>46.757679</td>\n",
       "    </tr>\n",
       "    <tr>\n",
       "      <th>AAACCCACAAGACCGA-1-WT</th>\n",
       "      <td>WT</td>\n",
       "      <td>WT</td>\n",
       "      <td>0.049366</td>\n",
       "      <td>False</td>\n",
       "      <td>2473</td>\n",
       "      <td>5827.0</td>\n",
       "      <td>292.0</td>\n",
       "      <td>5.011155</td>\n",
       "    </tr>\n",
       "    <tr>\n",
       "      <th>AAACCCACAAGATTGA-1-WT</th>\n",
       "      <td>WT</td>\n",
       "      <td>WT</td>\n",
       "      <td>0.068326</td>\n",
       "      <td>False</td>\n",
       "      <td>4119</td>\n",
       "      <td>15419.0</td>\n",
       "      <td>659.0</td>\n",
       "      <td>4.273948</td>\n",
       "    </tr>\n",
       "    <tr>\n",
       "      <th>AAACCCACACGACGAA-1-WT</th>\n",
       "      <td>WT</td>\n",
       "      <td>WT</td>\n",
       "      <td>0.034609</td>\n",
       "      <td>False</td>\n",
       "      <td>3059</td>\n",
       "      <td>9198.0</td>\n",
       "      <td>229.0</td>\n",
       "      <td>2.489672</td>\n",
       "    </tr>\n",
       "    <tr>\n",
       "      <th>...</th>\n",
       "      <td>...</td>\n",
       "      <td>...</td>\n",
       "      <td>...</td>\n",
       "      <td>...</td>\n",
       "      <td>...</td>\n",
       "      <td>...</td>\n",
       "      <td>...</td>\n",
       "      <td>...</td>\n",
       "    </tr>\n",
       "    <tr>\n",
       "      <th>TTTGTTGGTGAATTAG-1-Fezf2_KO</th>\n",
       "      <td>Fezf2_KO</td>\n",
       "      <td>Fezf2_KO</td>\n",
       "      <td>0.057981</td>\n",
       "      <td>False</td>\n",
       "      <td>2919</td>\n",
       "      <td>8951.0</td>\n",
       "      <td>261.0</td>\n",
       "      <td>2.915875</td>\n",
       "    </tr>\n",
       "    <tr>\n",
       "      <th>TTTGTTGGTGTCGCTG-1-Fezf2_KO</th>\n",
       "      <td>Fezf2_KO</td>\n",
       "      <td>Fezf2_KO</td>\n",
       "      <td>0.023215</td>\n",
       "      <td>False</td>\n",
       "      <td>500</td>\n",
       "      <td>1130.0</td>\n",
       "      <td>516.0</td>\n",
       "      <td>45.663719</td>\n",
       "    </tr>\n",
       "    <tr>\n",
       "      <th>TTTGTTGTCACGGGCT-1-Fezf2_KO</th>\n",
       "      <td>Fezf2_KO</td>\n",
       "      <td>Fezf2_KO</td>\n",
       "      <td>0.053745</td>\n",
       "      <td>False</td>\n",
       "      <td>3840</td>\n",
       "      <td>11979.0</td>\n",
       "      <td>224.0</td>\n",
       "      <td>1.869939</td>\n",
       "    </tr>\n",
       "    <tr>\n",
       "      <th>TTTGTTGTCTAGACAC-1-Fezf2_KO</th>\n",
       "      <td>Fezf2_KO</td>\n",
       "      <td>Fezf2_KO</td>\n",
       "      <td>0.090029</td>\n",
       "      <td>False</td>\n",
       "      <td>3886</td>\n",
       "      <td>11001.0</td>\n",
       "      <td>325.0</td>\n",
       "      <td>2.954277</td>\n",
       "    </tr>\n",
       "    <tr>\n",
       "      <th>TTTGTTGTCTAGACCA-1-Fezf2_KO</th>\n",
       "      <td>Fezf2_KO</td>\n",
       "      <td>Fezf2_KO</td>\n",
       "      <td>0.040127</td>\n",
       "      <td>False</td>\n",
       "      <td>1253</td>\n",
       "      <td>2629.0</td>\n",
       "      <td>686.0</td>\n",
       "      <td>26.093573</td>\n",
       "    </tr>\n",
       "  </tbody>\n",
       "</table>\n",
       "<p>22356 rows × 8 columns</p>\n",
       "</div>"
      ],
      "text/plain": [
       "                             genotype     batch  scrublet_score   \n",
       "AAACCCAAGCATACTC-1-WT              WT        WT        0.009908  \\\n",
       "AAACCCAAGCATGCAG-1-WT              WT        WT        0.020833   \n",
       "AAACCCACAAGACCGA-1-WT              WT        WT        0.049366   \n",
       "AAACCCACAAGATTGA-1-WT              WT        WT        0.068326   \n",
       "AAACCCACACGACGAA-1-WT              WT        WT        0.034609   \n",
       "...                               ...       ...             ...   \n",
       "TTTGTTGGTGAATTAG-1-Fezf2_KO  Fezf2_KO  Fezf2_KO        0.057981   \n",
       "TTTGTTGGTGTCGCTG-1-Fezf2_KO  Fezf2_KO  Fezf2_KO        0.023215   \n",
       "TTTGTTGTCACGGGCT-1-Fezf2_KO  Fezf2_KO  Fezf2_KO        0.053745   \n",
       "TTTGTTGTCTAGACAC-1-Fezf2_KO  Fezf2_KO  Fezf2_KO        0.090029   \n",
       "TTTGTTGTCTAGACCA-1-Fezf2_KO  Fezf2_KO  Fezf2_KO        0.040127   \n",
       "\n",
       "                             scrublet_called_doublet  n_genes_by_counts   \n",
       "AAACCCAAGCATACTC-1-WT                          False                205  \\\n",
       "AAACCCAAGCATGCAG-1-WT                          False                250   \n",
       "AAACCCACAAGACCGA-1-WT                          False               2473   \n",
       "AAACCCACAAGATTGA-1-WT                          False               4119   \n",
       "AAACCCACACGACGAA-1-WT                          False               3059   \n",
       "...                                              ...                ...   \n",
       "TTTGTTGGTGAATTAG-1-Fezf2_KO                    False               2919   \n",
       "TTTGTTGGTGTCGCTG-1-Fezf2_KO                    False                500   \n",
       "TTTGTTGTCACGGGCT-1-Fezf2_KO                    False               3840   \n",
       "TTTGTTGTCTAGACAC-1-Fezf2_KO                    False               3886   \n",
       "TTTGTTGTCTAGACCA-1-Fezf2_KO                    False               1253   \n",
       "\n",
       "                             total_counts  total_counts_mt  pct_counts_mt  \n",
       "AAACCCAAGCATACTC-1-WT               707.0            446.0      63.083450  \n",
       "AAACCCAAGCATGCAG-1-WT               586.0            274.0      46.757679  \n",
       "AAACCCACAAGACCGA-1-WT              5827.0            292.0       5.011155  \n",
       "AAACCCACAAGATTGA-1-WT             15419.0            659.0       4.273948  \n",
       "AAACCCACACGACGAA-1-WT              9198.0            229.0       2.489672  \n",
       "...                                   ...              ...            ...  \n",
       "TTTGTTGGTGAATTAG-1-Fezf2_KO        8951.0            261.0       2.915875  \n",
       "TTTGTTGGTGTCGCTG-1-Fezf2_KO        1130.0            516.0      45.663719  \n",
       "TTTGTTGTCACGGGCT-1-Fezf2_KO       11979.0            224.0       1.869939  \n",
       "TTTGTTGTCTAGACAC-1-Fezf2_KO       11001.0            325.0       2.954277  \n",
       "TTTGTTGTCTAGACCA-1-Fezf2_KO        2629.0            686.0      26.093573  \n",
       "\n",
       "[22356 rows x 8 columns]"
      ]
     },
     "execution_count": 26,
     "metadata": {},
     "output_type": "execute_result"
    }
   ],
   "source": [
    "adata.obs"
   ]
  },
  {
   "cell_type": "code",
   "execution_count": 27,
   "metadata": {},
   "outputs": [
    {
     "data": {
      "text/html": [
       "<div>\n",
       "<style scoped>\n",
       "    .dataframe tbody tr th:only-of-type {\n",
       "        vertical-align: middle;\n",
       "    }\n",
       "\n",
       "    .dataframe tbody tr th {\n",
       "        vertical-align: top;\n",
       "    }\n",
       "\n",
       "    .dataframe thead th {\n",
       "        text-align: right;\n",
       "    }\n",
       "</style>\n",
       "<table border=\"1\" class=\"dataframe\">\n",
       "  <thead>\n",
       "    <tr style=\"text-align: right;\">\n",
       "      <th></th>\n",
       "      <th>mt</th>\n",
       "      <th>n_cells_by_counts</th>\n",
       "      <th>mean_counts</th>\n",
       "      <th>pct_dropout_by_counts</th>\n",
       "      <th>total_counts</th>\n",
       "    </tr>\n",
       "  </thead>\n",
       "  <tbody>\n",
       "    <tr>\n",
       "      <th>Xkr4</th>\n",
       "      <td>False</td>\n",
       "      <td>5179</td>\n",
       "      <td>1.363437</td>\n",
       "      <td>76.833960</td>\n",
       "      <td>30481.0</td>\n",
       "    </tr>\n",
       "    <tr>\n",
       "      <th>Gm1992</th>\n",
       "      <td>False</td>\n",
       "      <td>364</td>\n",
       "      <td>0.022634</td>\n",
       "      <td>98.371802</td>\n",
       "      <td>506.0</td>\n",
       "    </tr>\n",
       "    <tr>\n",
       "      <th>Gm19938</th>\n",
       "      <td>False</td>\n",
       "      <td>933</td>\n",
       "      <td>0.069154</td>\n",
       "      <td>95.826624</td>\n",
       "      <td>1546.0</td>\n",
       "    </tr>\n",
       "    <tr>\n",
       "      <th>Gm37381</th>\n",
       "      <td>False</td>\n",
       "      <td>47</td>\n",
       "      <td>0.006754</td>\n",
       "      <td>99.789766</td>\n",
       "      <td>151.0</td>\n",
       "    </tr>\n",
       "    <tr>\n",
       "      <th>Rp1</th>\n",
       "      <td>False</td>\n",
       "      <td>260</td>\n",
       "      <td>0.058105</td>\n",
       "      <td>98.837001</td>\n",
       "      <td>1299.0</td>\n",
       "    </tr>\n",
       "    <tr>\n",
       "      <th>...</th>\n",
       "      <td>...</td>\n",
       "      <td>...</td>\n",
       "      <td>...</td>\n",
       "      <td>...</td>\n",
       "      <td>...</td>\n",
       "    </tr>\n",
       "    <tr>\n",
       "      <th>AC124606.1</th>\n",
       "      <td>False</td>\n",
       "      <td>0</td>\n",
       "      <td>0.000000</td>\n",
       "      <td>100.000000</td>\n",
       "      <td>0.0</td>\n",
       "    </tr>\n",
       "    <tr>\n",
       "      <th>AC133095.2</th>\n",
       "      <td>False</td>\n",
       "      <td>0</td>\n",
       "      <td>0.000000</td>\n",
       "      <td>100.000000</td>\n",
       "      <td>0.0</td>\n",
       "    </tr>\n",
       "    <tr>\n",
       "      <th>AC133095.1</th>\n",
       "      <td>False</td>\n",
       "      <td>0</td>\n",
       "      <td>0.000000</td>\n",
       "      <td>100.000000</td>\n",
       "      <td>0.0</td>\n",
       "    </tr>\n",
       "    <tr>\n",
       "      <th>AC234645.1</th>\n",
       "      <td>False</td>\n",
       "      <td>0</td>\n",
       "      <td>0.000000</td>\n",
       "      <td>100.000000</td>\n",
       "      <td>0.0</td>\n",
       "    </tr>\n",
       "    <tr>\n",
       "      <th>AC149090.1</th>\n",
       "      <td>False</td>\n",
       "      <td>12767</td>\n",
       "      <td>1.754339</td>\n",
       "      <td>42.892288</td>\n",
       "      <td>39220.0</td>\n",
       "    </tr>\n",
       "  </tbody>\n",
       "</table>\n",
       "<p>32285 rows × 5 columns</p>\n",
       "</div>"
      ],
      "text/plain": [
       "               mt  n_cells_by_counts  mean_counts  pct_dropout_by_counts   \n",
       "Xkr4        False               5179     1.363437              76.833960  \\\n",
       "Gm1992      False                364     0.022634              98.371802   \n",
       "Gm19938     False                933     0.069154              95.826624   \n",
       "Gm37381     False                 47     0.006754              99.789766   \n",
       "Rp1         False                260     0.058105              98.837001   \n",
       "...           ...                ...          ...                    ...   \n",
       "AC124606.1  False                  0     0.000000             100.000000   \n",
       "AC133095.2  False                  0     0.000000             100.000000   \n",
       "AC133095.1  False                  0     0.000000             100.000000   \n",
       "AC234645.1  False                  0     0.000000             100.000000   \n",
       "AC149090.1  False              12767     1.754339              42.892288   \n",
       "\n",
       "            total_counts  \n",
       "Xkr4             30481.0  \n",
       "Gm1992             506.0  \n",
       "Gm19938           1546.0  \n",
       "Gm37381            151.0  \n",
       "Rp1               1299.0  \n",
       "...                  ...  \n",
       "AC124606.1           0.0  \n",
       "AC133095.2           0.0  \n",
       "AC133095.1           0.0  \n",
       "AC234645.1           0.0  \n",
       "AC149090.1       39220.0  \n",
       "\n",
       "[32285 rows x 5 columns]"
      ]
     },
     "execution_count": 27,
     "metadata": {},
     "output_type": "execute_result"
    }
   ],
   "source": [
    "adata.var"
   ]
  },
  {
   "cell_type": "markdown",
   "metadata": {},
   "source": [
    "#### plot qc metrics"
   ]
  },
  {
   "cell_type": "markdown",
   "metadata": {},
   "source": [
    "Thresholds can then be used to filter outlier cells that are low quality, dying, or potential multiplets. High total counts and number of genes per cell can be indicative of a doublet, while low counts and number of genes per cell can be indicative of dead/dying cells. Additionally a high mitochondrial read percentage per cell indicates damaged cells as more mitochondrial RNA than nuclear/cytosolic RNA will be retained when a cell's membrane is punctured"
   ]
  },
  {
   "cell_type": "markdown",
   "metadata": {},
   "source": [
    "Appropriate lower thresholds for total counts and number of genes typically range from 250-1000 for both metrics, while upper thresholds are dataset specific and depend on the depth of sequencing. Mitochondrial read percentage cutoffs typically range from 5-10% for good quality datasets."
   ]
  },
  {
   "cell_type": "code",
   "execution_count": 28,
   "metadata": {},
   "outputs": [],
   "source": [
    "counts_thresholds = (1000, 50000) # The lower and upper total_counts thresholds\n",
    "genes_thresholds = (250, 7500) # The lower and upper n_genes_by_counts thresholds\n",
    "mt_threshold = 10 # The pct_counts_mt threshold"
   ]
  },
  {
   "cell_type": "code",
   "execution_count": 29,
   "metadata": {},
   "outputs": [
    {
     "data": {
      "image/png": "[encoded data removed]",
      "text/plain": [
       "<Figure size 900x300 with 3 Axes>"
      ]
     },
     "metadata": {},
     "output_type": "display_data"
    }
   ],
   "source": [
    "rna.pl.qc_plotting(\n",
    "    adata,\n",
    "    counts_thresholds=counts_thresholds,\n",
    "    genes_thresholds=genes_thresholds,\n",
    "    mt_threshold=mt_threshold,\n",
    "    show_thresholds=True, # Whether to show the thresholds on the figure\n",
    "    batch_key=\"genotype\", # Batch keys in adata.obs to plot seperately\n",
    "    show_legend=True, # Whether to show the batch key legend\n",
    "    figsize=(9, 3),\n",
    "    dpi=300,\n",
    "    save_path=\"analysis/qc_plots.png\",\n",
    ")"
   ]
  },
  {
   "cell_type": "markdown",
   "metadata": {},
   "source": [
    "#### filter on qc thresholds"
   ]
  },
  {
   "cell_type": "markdown",
   "metadata": {},
   "source": [
    "After changing thresholds to be appropriate for a given dataset, the AnnData object has to be filtered to only retain cells that pass those thresholds"
   ]
  },
  {
   "cell_type": "code",
   "execution_count": 30,
   "metadata": {},
   "outputs": [],
   "source": [
    "filteredAdata = rna.qc.filter_cells(\n",
    "    adata,\n",
    "    counts_thresholds=counts_thresholds, # The lower and upper total_counts thresholds\n",
    "    genes_thresholds=genes_thresholds, # The lower and upper n_genes_by_counts thresholds\n",
    "    mt_threshold=mt_threshold, # The pct_counts_mt threshold\n",
    ")"
   ]
  },
  {
   "cell_type": "code",
   "execution_count": 31,
   "metadata": {},
   "outputs": [
    {
     "data": {
      "image/png": "[encoded data removed]",
      "text/plain": [
       "<Figure size 900x300 with 3 Axes>"
      ]
     },
     "metadata": {},
     "output_type": "display_data"
    }
   ],
   "source": [
    "rna.pl.qc_plotting(\n",
    "    filteredAdata,\n",
    "    show_thresholds=False,\n",
    "    save_path=\"analysis/filtered_qc_plots.png\",\n",
    ")"
   ]
  },
  {
   "cell_type": "code",
   "execution_count": 32,
   "metadata": {},
   "outputs": [],
   "source": [
    "# Once you're happy with qc cell filtering, overwrite adata with the filtered adata\n",
    "adata = filteredAdata\n",
    "del filteredAdata"
   ]
  },
  {
   "cell_type": "markdown",
   "metadata": {},
   "source": [
    "### Initial data transformation"
   ]
  },
  {
   "cell_type": "markdown",
   "metadata": {},
   "source": [
    "Scanpy data normalization typically begins with a library size rescaling (so that each cell has the same total nummber of reads to account for differences in sequencing depth/size across cells) followed by log(1 + expression) transformation. This log transformation helps to reduce the mean-variance relationship present in expression data (https://www.nxn.se/valent/2017/10/15/variance-stabilizing-scrna-seq-counts)"
   ]
  },
  {
   "cell_type": "code",
   "execution_count": 33,
   "metadata": {},
   "outputs": [],
   "source": [
    "sc.pp.normalize_total(adata, target_sum=1e4)\n",
    "sc.pp.log1p(adata)"
   ]
  },
  {
   "cell_type": "markdown",
   "metadata": {},
   "source": [
    "This library size scaled and log transformed data is treated as 'raw' data in the scanpy pipeline rather than the true raw read counts detected that we saved to a 'raw counts' layer earlier."
   ]
  },
  {
   "cell_type": "markdown",
   "metadata": {},
   "source": [
    "#### The '.raw' AnnData attribute"
   ]
  },
  {
   "cell_type": "markdown",
   "metadata": {},
   "source": [
    "This log transformed data can be preserved in the 'raw' attribute of an AnnData object, which initially starts out empty:"
   ]
  },
  {
   "cell_type": "code",
   "execution_count": 34,
   "metadata": {},
   "outputs": [],
   "source": [
    "adata.raw"
   ]
  },
  {
   "cell_type": "code",
   "execution_count": 35,
   "metadata": {},
   "outputs": [],
   "source": [
    "adata.raw = adata # Preserve log-transformed counts in the raw attribute"
   ]
  },
  {
   "cell_type": "markdown",
   "metadata": {},
   "source": [
    "After being set, the 'raw' attriibute will contain a copy of the state of the anndata object at the time it was set"
   ]
  },
  {
   "cell_type": "code",
   "execution_count": 36,
   "metadata": {},
   "outputs": [
    {
     "data": {
      "text/plain": [
       "<anndata._core.raw.Raw at 0x7ff0341ad5a0>"
      ]
     },
     "execution_count": 36,
     "metadata": {},
     "output_type": "execute_result"
    }
   ],
   "source": [
    "adata.raw"
   ]
  },
  {
   "cell_type": "code",
   "execution_count": 37,
   "metadata": {},
   "outputs": [
    {
     "data": {
      "text/plain": [
       "matrix([[0.        , 0.        , 0.        , ..., 0.        , 0.        ,\n",
       "         2.424528  ],\n",
       "        [0.        , 0.        , 0.        , ..., 0.        , 0.        ,\n",
       "         0.8316479 ],\n",
       "        [0.        , 0.        , 0.        , ..., 0.        , 0.        ,\n",
       "         0.73582006],\n",
       "        ...,\n",
       "        [0.        , 0.        , 0.        , ..., 0.        , 0.        ,\n",
       "         0.75009143],\n",
       "        [0.        , 0.        , 0.        , ..., 0.        , 0.        ,\n",
       "         0.6069323 ],\n",
       "        [0.        , 0.        , 0.        , ..., 0.        , 0.        ,\n",
       "         0.        ]], dtype=float32)"
      ]
     },
     "execution_count": 37,
     "metadata": {},
     "output_type": "execute_result"
    }
   ],
   "source": [
    "adata.X.todense()"
   ]
  },
  {
   "cell_type": "code",
   "execution_count": 38,
   "metadata": {},
   "outputs": [
    {
     "data": {
      "text/plain": [
       "matrix([[0.        , 0.        , 0.        , ..., 0.        , 0.        ,\n",
       "         2.424528  ],\n",
       "        [0.        , 0.        , 0.        , ..., 0.        , 0.        ,\n",
       "         0.8316479 ],\n",
       "        [0.        , 0.        , 0.        , ..., 0.        , 0.        ,\n",
       "         0.73582006],\n",
       "        ...,\n",
       "        [0.        , 0.        , 0.        , ..., 0.        , 0.        ,\n",
       "         0.75009143],\n",
       "        [0.        , 0.        , 0.        , ..., 0.        , 0.        ,\n",
       "         0.6069323 ],\n",
       "        [0.        , 0.        , 0.        , ..., 0.        , 0.        ,\n",
       "         0.        ]], dtype=float32)"
      ]
     },
     "execution_count": 38,
     "metadata": {},
     "output_type": "execute_result"
    }
   ],
   "source": [
    "adata.raw.X.todense()"
   ]
  },
  {
   "cell_type": "markdown",
   "metadata": {},
   "source": [
    "To overwrite an existing 'raw' attribute, it first has to be deleted"
   ]
  },
  {
   "cell_type": "code",
   "execution_count": 39,
   "metadata": {},
   "outputs": [],
   "source": [
    "del adata.raw\n",
    "adata.raw = adata"
   ]
  },
  {
   "cell_type": "markdown",
   "metadata": {},
   "source": [
    "### Gene selection"
   ]
  },
  {
   "cell_type": "markdown",
   "metadata": {},
   "source": [
    "The next step in data preprocessing is typically to select of subset of genes for downstream analyses, often by picking genes that are highly variable across the dataset"
   ]
  },
  {
   "cell_type": "markdown",
   "metadata": {},
   "source": [
    "The number of highly variable genes to be used is an important parameter that can significantly impact downstream analysis. Anywhere from 2500-10000 genes is a reasonable range, with more genes able to be included the more cells you have in the dataset. In theory, you should never include more genes than you have cells (particularly when using scVI for data normalization), however in practice you can get sometimes get away with including more genes, or even skipping highly variable feature selectin all together with the caveat being that the normalized expression values for very low detection genes will be very noisy and should be taken with a grain off salt. Another immportant consideration is that the more genes included in the dataset, the longer expression normalization will take."
   ]
  },
  {
   "cell_type": "code",
   "execution_count": 40,
   "metadata": {},
   "outputs": [],
   "source": [
    "sc.pp.highly_variable_genes(\n",
    "    adata,\n",
    "    n_top_genes=5000, # Number of HVGs to keep\n",
    "    subset=False, # Subset the adata in place\n",
    "    layer=\"raw_counts\", # Use the raw counts data for calculations\n",
    "    flavor=\"seurat_v3\", # HVG algorithm to use\n",
    "    batch_key=\"genotype\", # Column in adata.obs that annotates batches of data\n",
    ")"
   ]
  },
  {
   "cell_type": "markdown",
   "metadata": {},
   "source": [
    "The AnnData object is not subset in place unless specified using the 'subset' parameter, instead the classification of each gene as highly variable or not is stored as a boolean in the 'var' attribute"
   ]
  },
  {
   "cell_type": "code",
   "execution_count": 41,
   "metadata": {},
   "outputs": [
    {
     "data": {
      "text/plain": [
       "Xkr4           True\n",
       "Gm1992        False\n",
       "Gm19938       False\n",
       "Gm37381        True\n",
       "Rp1            True\n",
       "              ...  \n",
       "AC124606.1    False\n",
       "AC133095.2    False\n",
       "AC133095.1    False\n",
       "AC234645.1    False\n",
       "AC149090.1    False\n",
       "Name: highly_variable, Length: 32285, dtype: bool"
      ]
     },
     "execution_count": 41,
     "metadata": {},
     "output_type": "execute_result"
    }
   ],
   "source": [
    "adata.var[\"highly_variable\"]"
   ]
  },
  {
   "cell_type": "markdown",
   "metadata": {},
   "source": [
    "Sometimes important genes of interest will not be identiied as being sufficiently highly variable within your dataset for inclusion in downstream analyses. This is problematic because scVI models can only provide normalized gene expression values for genes included in the model (i.e. pass your inclusion threshold)."
   ]
  },
  {
   "cell_type": "code",
   "execution_count": 42,
   "metadata": {},
   "outputs": [
    {
     "data": {
      "text/plain": [
       "False"
      ]
     },
     "execution_count": 42,
     "metadata": {},
     "output_type": "execute_result"
    }
   ],
   "source": [
    "adata.var.loc[\"Bcam\", \"highly_variable\"]"
   ]
  },
  {
   "cell_type": "markdown",
   "metadata": {},
   "source": [
    "In these cases, I will typically manually ensure genes of interest are included in downstream analysis, regardless of whether they pass highly varriable thresholds. Since this is usually a very small number of genes relative to the number of selected highly variable genes (10s vs 1000s), this should not significantly impact scVI model training or accuracy."
   ]
  },
  {
   "cell_type": "code",
   "execution_count": 43,
   "metadata": {},
   "outputs": [
    {
     "name": "stdout",
     "output_type": "stream",
     "text": [
      "Tcf4 is not highly variable\n",
      "Bcam is not highly variable\n"
     ]
    }
   ],
   "source": [
    "genesToInclude = [\"Fezf2\", \"Tcf4\", \"Bcam\", \"Aire\", \"Ccl21a\", \"Psmb11\", \"Mki67\", \"Foxj1\", \"Tspan8\", \"Pou2f3\", \"Gp2\", \"Ascl1\"]\n",
    "# First make a copy of the genes identified as highly variable\n",
    "adata.var[\"include_genes\"] = adata.var.highly_variable.copy()\n",
    "# Then iterate over the list of genes of interest\n",
    "for gene in genesToInclude:\n",
    "    # Check if the current gene is already labeled as highly variable\n",
    "    if not adata.var.loc[gene, \"highly_variable\"]:\n",
    "        print(f\"{gene} is not highly variable\")\n",
    "        # If not, ensure that it is included by flipping its 'include_genes' value from False to True\n",
    "        adata.var.loc[gene, \"include_genes\"] = True"
   ]
  },
  {
   "cell_type": "code",
   "execution_count": 44,
   "metadata": {},
   "outputs": [
    {
     "data": {
      "text/plain": [
       "True"
      ]
     },
     "execution_count": 44,
     "metadata": {},
     "output_type": "execute_result"
    }
   ],
   "source": [
    "adata.var.loc[\"Bcam\", \"include_genes\"]"
   ]
  },
  {
   "cell_type": "code",
   "execution_count": 45,
   "metadata": {},
   "outputs": [],
   "source": [
    "# Now actually subset the AnnData on the highly variable genes + the genes of interest\n",
    "adata = adata[:, adata.var.include_genes].copy()"
   ]
  },
  {
   "cell_type": "code",
   "execution_count": 46,
   "metadata": {},
   "outputs": [
    {
     "data": {
      "text/plain": [
       "AnnData object with n_obs × n_vars = 15833 × 5002\n",
       "    obs: 'genotype', 'batch', 'scrublet_score', 'scrublet_called_doublet', 'n_genes_by_counts', 'total_counts', 'total_counts_mt', 'pct_counts_mt', 'qc_plot_batch'\n",
       "    var: 'mt', 'n_cells_by_counts', 'mean_counts', 'pct_dropout_by_counts', 'total_counts', 'highly_variable', 'highly_variable_rank', 'means', 'variances', 'variances_norm', 'highly_variable_nbatches', 'include_genes'\n",
       "    uns: 'log1p', 'hvg'\n",
       "    layers: 'raw_counts'"
      ]
     },
     "execution_count": 46,
     "metadata": {},
     "output_type": "execute_result"
    }
   ],
   "source": [
    "adata"
   ]
  },
  {
   "cell_type": "markdown",
   "metadata": {},
   "source": [
    "An important point to make here is that whatever subsetting you do (either on genes or cells) will affect the data in both the 'X' and 'layers' attributes, but *NOT* the 'raw' attribute, which will still contain all the genes and cells saved into it at the time it was set."
   ]
  },
  {
   "cell_type": "code",
   "execution_count": 47,
   "metadata": {},
   "outputs": [
    {
     "data": {
      "text/plain": [
       "(15833, 5002)"
      ]
     },
     "execution_count": 47,
     "metadata": {},
     "output_type": "execute_result"
    }
   ],
   "source": [
    "adata.X.shape"
   ]
  },
  {
   "cell_type": "code",
   "execution_count": 48,
   "metadata": {},
   "outputs": [
    {
     "data": {
      "text/plain": [
       "(15833, 5002)"
      ]
     },
     "execution_count": 48,
     "metadata": {},
     "output_type": "execute_result"
    }
   ],
   "source": [
    "adata.layers[\"raw_counts\"].shape"
   ]
  },
  {
   "cell_type": "code",
   "execution_count": 49,
   "metadata": {},
   "outputs": [
    {
     "data": {
      "text/plain": [
       "(15833, 32285)"
      ]
     },
     "execution_count": 49,
     "metadata": {},
     "output_type": "execute_result"
    }
   ],
   "source": [
    "adata.raw.X.shape"
   ]
  },
  {
   "cell_type": "markdown",
   "metadata": {},
   "source": [
    "## Scanpy data normalization"
   ]
  },
  {
   "cell_type": "markdown",
   "metadata": {},
   "source": [
    "The scanpy data normalization pipeline then proceeds to regress out covariates that could confound downstream analysis and transform each gene's range of expression to fit a normal distribution across cells (efffectively z-scoring it). However, with scVI normalization these steps can be skipped as the output of scVI will be used for all downstream analyses instead"
   ]
  },
  {
   "cell_type": "code",
   "execution_count": 50,
   "metadata": {},
   "outputs": [],
   "source": [
    "sc.pp.regress_out(adata, ['total_counts', 'pct_counts_mt'])\n",
    "sc.pp.scale(adata, max_value=10)"
   ]
  },
  {
   "cell_type": "markdown",
   "metadata": {},
   "source": [
    "## Saving/loading data"
   ]
  },
  {
   "cell_type": "code",
   "execution_count": 51,
   "metadata": {},
   "outputs": [],
   "source": [
    "adata.write(\"data/scRNAseq_tutorial_thymus_data.h5ad\")"
   ]
  },
  {
   "cell_type": "code",
   "execution_count": 52,
   "metadata": {},
   "outputs": [],
   "source": [
    "adata = sc.read(\"data/scRNAseq_tutorial_thymus_data.h5ad\")"
   ]
  },
  {
   "cell_type": "code",
   "execution_count": 53,
   "metadata": {},
   "outputs": [
    {
     "data": {
      "text/plain": [
       "AnnData object with n_obs × n_vars = 15833 × 5002\n",
       "    obs: 'genotype', 'batch', 'scrublet_score', 'scrublet_called_doublet', 'n_genes_by_counts', 'total_counts', 'total_counts_mt', 'pct_counts_mt', 'qc_plot_batch'\n",
       "    var: 'mt', 'n_cells_by_counts', 'mean_counts', 'pct_dropout_by_counts', 'total_counts', 'highly_variable', 'highly_variable_rank', 'means', 'variances', 'variances_norm', 'highly_variable_nbatches', 'include_genes', 'mean', 'std'\n",
       "    uns: 'hvg', 'log1p'\n",
       "    layers: 'raw_counts'"
      ]
     },
     "execution_count": 53,
     "metadata": {},
     "output_type": "execute_result"
    }
   ],
   "source": [
    "adata"
   ]
  }
 ],
 "metadata": {
  "kernelspec": {
   "display_name": "single-cell-analysis",
   "language": "python",
   "name": "single-cell-analysis"
  },
  "language_info": {
   "codemirror_mode": {
    "name": "ipython",
    "version": 3
   },
   "file_extension": ".py",
   "mimetype": "text/x-python",
   "name": "python",
   "nbconvert_exporter": "python",
   "pygments_lexer": "ipython3",
   "version": "3.10.10"
  }
 },
 "nbformat": 4,
 "nbformat_minor": 4
}
