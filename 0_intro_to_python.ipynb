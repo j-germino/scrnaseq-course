{
 "cells": [
  {
   "attachments": {},
   "cell_type": "markdown",
   "metadata": {},
   "source": [
    "# Session 0: Introduction to python and jupyter"
   ]
  },
  {
   "attachments": {},
   "cell_type": "markdown",
   "metadata": {},
   "source": [
    "## Jupyter notebooks"
   ]
  },
  {
   "attachments": {},
   "cell_type": "markdown",
   "metadata": {},
   "source": [
    "Jupyter notebooks (.ipynb files) are specially formatted files similar to R markdown files that allow Python code to be edited and executed within a notebook-specific instance of a Python environment that has all packages being used installed (called a kernel). For scientific data analysis, Jupyter notebooks have several advantages over writing python scripts (.py files) including: \n",
    "- More easily allowing individual blocks of code to be run rather than running an entire script at once \n",
    "- More readable organization and documentation of analysis steps beyond that possible with simple code comments \n",
    "- More interactive data exploration and pipeline testing\n",
    "- Code output can be displayed in line with the code that generates it"
   ]
  },
  {
   "attachments": {},
   "cell_type": "markdown",
   "metadata": {},
   "source": [
    "Notebooks are constructed using cells that are either \"code\" or \"markdown\" cells. Code cells can be executed using the python kernel selected for the document, while markdown cells contain plain text that can be formatted to break apart a notebook into collapsible subsections.\n",
    " - Highlighted cells can be run individually (using the \"run\" button or by pressing shift+enter), or the entire notebook can be run sequentially using the \"run all\" button \n",
    " - Double click on a cell to edit it's contents"
   ]
  },
  {
   "attachments": {},
   "cell_type": "markdown",
   "metadata": {},
   "source": [
    "This is a markdown cell"
   ]
  },
  {
   "cell_type": "code",
   "execution_count": 3,
   "metadata": {},
   "outputs": [
    {
     "name": "stdout",
     "output_type": "stream",
     "text": [
      "this is a code cell\n"
     ]
    }
   ],
   "source": [
    "print(\"this is a code cell\")"
   ]
  },
  {
   "attachments": {},
   "cell_type": "markdown",
   "metadata": {},
   "source": [
    "Mardown headings/titles are created using the number sign (#) followed by a space, with increasing nubers of '#' indicating a smaller heading, i.e. '###' would indicate a smaller heading than '##'"
   ]
  },
  {
   "attachments": {},
   "cell_type": "markdown",
   "metadata": {},
   "source": [
    "### This is a subheading"
   ]
  },
  {
   "attachments": {},
   "cell_type": "markdown",
   "metadata": {},
   "source": [
    "#### This is a smaller subheading"
   ]
  },
  {
   "attachments": {},
   "cell_type": "markdown",
   "metadata": {},
   "source": [
    "This is normal markdown text"
   ]
  },
  {
   "attachments": {},
   "cell_type": "markdown",
   "metadata": {},
   "source": [
    "Variables set in a code cell have global scope, i.e. are available to all other code cells in the notebook while the kernel is still running:"
   ]
  },
  {
   "cell_type": "code",
   "execution_count": 4,
   "metadata": {},
   "outputs": [],
   "source": [
    "myVar = 23"
   ]
  },
  {
   "cell_type": "code",
   "execution_count": 5,
   "metadata": {},
   "outputs": [
    {
     "data": {
      "text/plain": [
       "23"
      ]
     },
     "execution_count": 5,
     "metadata": {},
     "output_type": "execute_result"
    }
   ],
   "source": [
    "myVar"
   ]
  },
  {
   "attachments": {},
   "cell_type": "markdown",
   "metadata": {},
   "source": [
    "Restarting the python kernel using the \"restart\" button for a notebook will clear all loaded libraries and variables."
   ]
  },
  {
   "cell_type": "code",
   "execution_count": 1,
   "metadata": {},
   "outputs": [
    {
     "ename": "NameError",
     "evalue": "name 'myVar' is not defined",
     "output_type": "error",
     "traceback": [
      "\u001b[0;31m---------------------------------------------------------------------------\u001b[0m",
      "\u001b[0;31mNameError\u001b[0m                                 Traceback (most recent call last)",
      "\u001b[1;32m/home/joe/Repositories/scrnaseq-course/0_intro_to_python.ipynb Cell 22\u001b[0m in \u001b[0;36m1\n\u001b[0;32m----> <a href='vscode-notebook-cell://ssh-remote%2Bdemeter/home/joe/Repositories/scrnaseq-course/0_intro_to_python.ipynb#X44sdnNjb2RlLXJlbW90ZQ%3D%3D?line=0'>1</a>\u001b[0m myVar\n",
      "\u001b[0;31mNameError\u001b[0m: name 'myVar' is not defined"
     ]
    }
   ],
   "source": [
    "myVar"
   ]
  },
  {
   "attachments": {},
   "cell_type": "markdown",
   "metadata": {},
   "source": [
    "For more advanced usage command line (bash) commands can be run directly within a jupyter notebook by adding a '!' before the command in a code cell"
   ]
  },
  {
   "cell_type": "code",
   "execution_count": 5,
   "metadata": {},
   "outputs": [
    {
     "name": "stdout",
     "output_type": "stream",
     "text": [
      "total 12\n",
      "-rw-rw-r-- 1 joe joe 3085 Mar 30 18:59 0_intro_to_python.ipynb\n",
      "-rw-rw-r-- 1 joe joe    0 Mar 30 18:50 1_scanpy_data_preprocessing.ipynb\n",
      "-rw-rw-r-- 1 joe joe    0 Mar 30 18:50 2_scvi_data_normalization.ipynb\n",
      "-rw-rw-r-- 1 joe joe  405 Mar 30 18:59 3_downstream_analysis_methods.ipynb\n",
      "-rw-rw-r-- 1 joe joe   17 Mar 30 18:22 README.md\n"
     ]
    }
   ],
   "source": [
    "!ls -l # This is a bash command that lists all files in the current directory"
   ]
  },
  {
   "attachments": {},
   "cell_type": "markdown",
   "metadata": {},
   "source": [
    "## Google colab"
   ]
  },
  {
   "attachments": {},
   "cell_type": "markdown",
   "metadata": {},
   "source": [
    "Google colab is a free resource that allows for jupyter notebooks to be edited and run on a google server. It can be integrated with google drive to load data files and save figures. However the free tier is limited with session timeouts (shutting down the jupyter kernel you are using if it is inactive for too long) and limited compute ressources (RAM, CPU, and GPU). Colab sessions are essentially identical to local jupyter installations, with the exception that markdown cells are called text cells, kernels are called runtimes, and most of the jupyter cell control buttons (i.e. run, restart, run all) are located within the Runtime menu dropdown."
   ]
  },
  {
   "attachments": {},
   "cell_type": "markdown",
   "metadata": {},
   "source": [
    "A google colab session can be connected to your google drive using:"
   ]
  },
  {
   "cell_type": "code",
   "execution_count": null,
   "metadata": {},
   "outputs": [],
   "source": [
    "from google.colab import drive\n",
    "drive.mount(‘/content/gdrive’)"
   ]
  },
  {
   "attachments": {},
   "cell_type": "markdown",
   "metadata": {},
   "source": [
    "This will give you a link to follow that will give you an authorization code after logging into your account to add your google drve folder to the '/content/gdrive' path in your colab session. This will need to be rerun every time you connect to a new session, so it is best to include this cell at the top of all your colab notebooks"
   ]
  },
  {
   "attachments": {},
   "cell_type": "markdown",
   "metadata": {},
   "source": [
    "A GPU can be added to your colab session (required for training scVI models later on in the course) by going to Runtime > Change runtime type, then selecting 'GPU' from the hardware accelerator dropdown and clicking save"
   ]
  },
  {
   "attachments": {},
   "cell_type": "markdown",
   "metadata": {},
   "source": [
    "Note that any packages you want to load into your notebook kernel with have to be reinstalled into your colab session whenever it is restarted or times out, so it is best to include a cell installing all of the packages you will need at the top of your colab notebooks"
   ]
  },
  {
   "attachments": {},
   "cell_type": "markdown",
   "metadata": {},
   "source": [
    "## Setting up python environments"
   ]
  },
  {
   "attachments": {},
   "cell_type": "markdown",
   "metadata": {},
   "source": [
    "### Installing python packages"
   ]
  },
  {
   "attachments": {},
   "cell_type": "markdown",
   "metadata": {},
   "source": [
    "By default python includes basic functionality such as simple math functions, printing variable contents, and data type conversion. For most uses, additional functionality is needed, which can be obtained by installing external python packages created by other developers. These packages are typically published to a repository called PyPI (the python package index). "
   ]
  },
  {
   "attachments": {},
   "cell_type": "markdown",
   "metadata": {},
   "source": [
    "Python packages from PyPI are added to your python environment using a tool called 'pip' which is typically installed by default when you install python. To use pip to install a package to your colab session run:"
   ]
  },
  {
   "cell_type": "code",
   "execution_count": 6,
   "metadata": {},
   "outputs": [
    {
     "name": "stdout",
     "output_type": "stream",
     "text": [
      "Requirement already satisfied: numpy in /conda-global-envs/single-cell-analysis/lib/python3.10/site-packages (1.23.5)\n"
     ]
    }
   ],
   "source": [
    "!pip install numpy # This runs a bash command to install a pip package with the syntax 'pip install <package name>'"
   ]
  },
  {
   "attachments": {},
   "cell_type": "markdown",
   "metadata": {},
   "source": [
    "Most popular python packages have websites with documentation on how to use the methods included in the package, as well as installation instructions that include the 'pip install' command for that package. However, if running pip install within a jupyter notebook (such as on google colab), then an '!' needs to be added to the beginning of the command to run it as a bash command rather than as python code."
   ]
  },
  {
   "attachments": {},
   "cell_type": "markdown",
   "metadata": {},
   "source": [
    "Other useful pip commands:"
   ]
  },
  {
   "cell_type": "code",
   "execution_count": 1,
   "metadata": {},
   "outputs": [
    {
     "name": "stdout",
     "output_type": "stream",
     "text": [
      "Package                  Version\n",
      "------------------------ -----------\n",
      "absl-py                  1.4.0\n",
      "aiohttp                  3.8.3\n",
      "aiosignal                1.3.1\n",
      "anndata                  0.8.0\n",
      "annoy                    1.17.1\n",
      "asttokens                2.0.5\n",
      "async-timeout            4.0.2\n",
      "attrs                    22.2.0\n",
      "backcall                 0.2.0\n",
      "beautifulsoup4           4.11.1\n",
      "bleach                   5.0.1\n",
      "cached-property          1.5.2\n",
      "cachetools               5.2.1\n",
      "certifi                  2022.12.7\n",
      "charset-normalizer       2.1.1\n",
      "chex                     0.1.5\n",
      "click                    8.1.3\n",
      "comm                     0.1.2\n",
      "commonmark               0.9.1\n",
      "contextlib2              21.6.0\n",
      "contourpy                1.0.6\n",
      "cycler                   0.11.0\n",
      "Cython                   0.29.33\n",
      "DateTime                 5.0\n",
      "debugpy                  1.5.1\n",
      "decorator                5.1.1\n",
      "defusedxml               0.7.1\n",
      "dm-tree                  0.1.8\n",
      "docrep                   0.3.2\n",
      "entrypoints              0.4\n",
      "et-xmlfile               1.1.0\n",
      "etils                    1.0.0\n",
      "exceptiongroup           1.1.0\n",
      "executing                0.8.3\n",
      "fastjsonschema           2.16.2\n",
      "flax                     0.6.3\n",
      "fonttools                4.38.0\n",
      "frozenlist               1.3.3\n",
      "fsspec                   2022.11.0\n",
      "google-auth              2.16.0\n",
      "google-auth-oauthlib     0.4.6\n",
      "grpcio                   1.51.1\n",
      "h5py                     3.7.0\n",
      "harmonypy                0.0.9\n",
      "idna                     3.4\n",
      "igraph                   0.10.3\n",
      "imageio                  2.24.0\n",
      "importlib-resources      5.10.2\n",
      "iniconfig                2.0.0\n",
      "ipykernel                6.19.2\n",
      "ipython                  8.7.0\n",
      "ipywidgets               8.0.4\n",
      "jax                      0.4.1\n",
      "jaxlib                   0.4.1\n",
      "jedi                     0.18.1\n",
      "Jinja2                   3.1.2\n",
      "joblib                   1.2.0\n",
      "jsonschema               4.17.3\n",
      "jupyter_client           7.4.8\n",
      "jupyter_core             5.1.1\n",
      "jupyterlab-pygments      0.2.2\n",
      "jupyterlab-widgets       3.0.5\n",
      "kb-python                0.27.3\n",
      "kiwisolver               1.4.4\n",
      "leidenalg                0.9.1\n",
      "llvmlite                 0.39.1\n",
      "loompy                   3.0.7\n",
      "Markdown                 3.4.1\n",
      "MarkupSafe               2.1.1\n",
      "matplotlib               3.6.3\n",
      "matplotlib-inline        0.1.6\n",
      "memory-profiler          0.61.0\n",
      "mistune                  2.0.4\n",
      "ml-collections           0.1.1\n",
      "msgpack                  1.0.4\n",
      "mudata                   0.2.1\n",
      "multidict                6.0.4\n",
      "multipledispatch         0.6.0\n",
      "natsort                  8.2.0\n",
      "nbclient                 0.7.2\n",
      "nbconvert                7.2.7\n",
      "nbformat                 5.7.3\n",
      "nest-asyncio             1.5.6\n",
      "networkx                 3.0\n",
      "ngs-tools                1.8.1\n",
      "numba                    0.56.4\n",
      "numpy                    1.23.5\n",
      "numpy-groupies           0.9.20\n",
      "numpyro                  0.10.1\n",
      "nvidia-cublas-cu11       11.10.3.66\n",
      "nvidia-cuda-nvrtc-cu11   11.7.99\n",
      "nvidia-cuda-runtime-cu11 11.7.99\n",
      "nvidia-cudnn-cu11        8.5.0.96\n",
      "oauthlib                 3.2.2\n",
      "openpyxl                 3.0.10\n",
      "opt-einsum               3.3.0\n",
      "optax                    0.1.4\n",
      "orbax                    0.1.0\n",
      "packaging                22.0\n",
      "pandas                   1.5.2\n",
      "pandocfilters            1.5.0\n",
      "parso                    0.8.3\n",
      "patsy                    0.5.3\n",
      "pexpect                  4.8.0\n",
      "pickleshare              0.7.5\n",
      "Pillow                   9.4.0\n",
      "pip                      22.3.1\n",
      "platformdirs             2.5.2\n",
      "plotly                   5.11.0\n",
      "pluggy                   1.0.0\n",
      "prompt-toolkit           3.0.36\n",
      "protobuf                 3.20.3\n",
      "psutil                   5.9.0\n",
      "ptyprocess               0.7.0\n",
      "pure-eval                0.2.2\n",
      "pyasn1                   0.4.8\n",
      "pyasn1-modules           0.2.8\n",
      "pyDeprecate              0.3.2\n",
      "Pygments                 2.11.2\n",
      "pynndescent              0.5.8\n",
      "pyparsing                3.0.9\n",
      "pyro-api                 0.1.2\n",
      "pyro-ppl                 1.8.4\n",
      "pyrsistent               0.19.3\n",
      "pysam                    0.20.0\n",
      "pytest                   7.2.0\n",
      "python-dateutil          2.8.2\n",
      "pytorch-lightning        1.7.7\n",
      "pytz                     2022.7\n",
      "PyWavelets               1.4.1\n",
      "PyYAML                   6.0\n",
      "pyzmq                    23.2.0\n",
      "requests                 2.28.2\n",
      "requests-oauthlib        1.3.1\n",
      "rich                     13.0.1\n",
      "rsa                      4.9\n",
      "scanpy                   1.9.1\n",
      "scikit-image             0.19.3\n",
      "scikit-learn             1.2.0\n",
      "scipy                    1.10.0\n",
      "scrnatools               0.3.2\n",
      "scrublet                 0.2.3\n",
      "scvi-tools               0.19.0\n",
      "seaborn                  0.12.2\n",
      "session-info             1.0.0\n",
      "setuptools               65.6.3\n",
      "shortuuid                1.0.11\n",
      "six                      1.16.0\n",
      "soupsieve                2.3.2.post1\n",
      "stack-data               0.2.0\n",
      "statsmodels              0.13.5\n",
      "stdlib-list              0.8.0\n",
      "tenacity                 8.1.0\n",
      "tensorboard              2.11.0\n",
      "tensorboard-data-server  0.6.1\n",
      "tensorboard-plugin-wit   1.8.1\n",
      "tensorstore              0.1.30\n",
      "texttable                1.6.7\n",
      "threadpoolctl            3.1.0\n",
      "tifffile                 2022.10.10\n",
      "tinycss2                 1.2.1\n",
      "tomli                    2.0.1\n",
      "toolz                    0.12.0\n",
      "torch                    1.13.1\n",
      "torchmetrics             0.11.0\n",
      "tornado                  6.2\n",
      "tqdm                     4.64.1\n",
      "traitlets                5.7.1\n",
      "typing_extensions        4.4.0\n",
      "umap-learn               0.5.3\n",
      "urllib3                  1.26.14\n",
      "wcwidth                  0.2.5\n",
      "webencodings             0.5.1\n",
      "Werkzeug                 2.2.2\n",
      "wheel                    0.37.1\n",
      "widgetsnbextension       4.0.5\n",
      "yarl                     1.8.2\n",
      "zope.interface           5.5.2\n",
      "Requirement already satisfied: numpy in /conda-global-envs/kallisto/lib/python3.10/site-packages (1.23.5)\n",
      "Collecting numpy\n",
      "  Using cached numpy-1.24.2-cp310-cp310-manylinux_2_17_x86_64.manylinux2014_x86_64.whl (17.3 MB)\n",
      "Installing collected packages: numpy\n",
      "  Attempting uninstall: numpy\n",
      "    Found existing installation: numpy 1.23.5\n",
      "    Uninstalling numpy-1.23.5:\n",
      "      Successfully uninstalled numpy-1.23.5\n",
      "\u001b[31mERROR: pip's dependency resolver does not currently take into account all the packages that are installed. This behaviour is the source of the following dependency conflicts.\n",
      "numba 0.56.4 requires numpy<1.24,>=1.18, but you have numpy 1.24.2 which is incompatible.\u001b[0m\u001b[31m\n",
      "\u001b[0mSuccessfully installed numpy-1.24.2\n",
      "Found existing installation: numpy 1.24.2\n",
      "Uninstalling numpy-1.24.2:\n",
      "  Would remove:\n",
      "    /conda-global-envs/kallisto/bin/f2py\n",
      "    /conda-global-envs/kallisto/bin/f2py3\n",
      "    /conda-global-envs/kallisto/bin/f2py3.10\n",
      "    /conda-global-envs/kallisto/lib/python3.10/site-packages/numpy-1.24.2.dist-info/*\n",
      "    /conda-global-envs/kallisto/lib/python3.10/site-packages/numpy.libs/libgfortran-040039e1.so.5.0.0\n",
      "    /conda-global-envs/kallisto/lib/python3.10/site-packages/numpy.libs/libopenblas64_p-r0-15028c96.3.21.so\n",
      "    /conda-global-envs/kallisto/lib/python3.10/site-packages/numpy.libs/libquadmath-96973f99.so.0.0.0\n",
      "    /conda-global-envs/kallisto/lib/python3.10/site-packages/numpy/*\n",
      "Proceed (Y/n)? "
     ]
    }
   ],
   "source": [
    "!pip list # lists all the installed packages in the current python environemnt\n",
    "!pip install numpy --upgrade # update an installed package to the latest version, if possible\n",
    "!pip uninstall numpy -y # uninstall an installed package\n",
    "!pip install numpy==1.23.5 # install a specific version of a package"
   ]
  },
  {
   "cell_type": "code",
   "execution_count": null,
   "metadata": {},
   "outputs": [],
   "source": [
    "# Package needed for this course (many other packages will be installed as dependencies):\n",
    "!pip install scrnatools -q # the -q parameter runs this command quietly, with less verbose output"
   ]
  },
  {
   "attachments": {},
   "cell_type": "markdown",
   "metadata": {},
   "source": [
    "### Anaconda/miniconda virtual environments"
   ]
  },
  {
   "attachments": {},
   "cell_type": "markdown",
   "metadata": {},
   "source": [
    "For use cases where google colab is not sufficient, python can be installed locally on any laptop or desktop. While it is possible to do this directly from the python foundation website, it is **HIGHLY RECCOMENDED** to instead use a python virtual environment manager such as Anaconda instead."
   ]
  },
  {
   "attachments": {},
   "cell_type": "markdown",
   "metadata": {},
   "source": [
    "Virtual environments act as \"copies\" of a base installation of python that allow python packges to be installed to that copy, while keeping the base environment a clean, vanilla python installation. Multiple virtual environments can be created so that one exists for each project/pipline being worked on. This is important because it allows you to install **ONLY** the required packages for a particular project to a given virtual environment, with other projects that require different packages siloed to their own environment. This prevents issues that can arise from version collisions when all the packages needed for all projects are installed into a single environment."
   ]
  },
  {
   "attachments": {},
   "cell_type": "markdown",
   "metadata": {},
   "source": [
    "Miniconda is a stripped down version of the Anaconda virtual environemnt manager that can be installed from: https://docs.conda.io/en/main/miniconda.html. After installation, all management of Miniconda environments is performed from a command line (the 'Terminal' application on MacOS, or 'cmd' on windows)"
   ]
  },
  {
   "attachments": {},
   "cell_type": "markdown",
   "metadata": {},
   "source": [
    "First, create a virtual environment:"
   ]
  },
  {
   "cell_type": "code",
   "execution_count": null,
   "metadata": {},
   "outputs": [],
   "source": [
    "# Run in terminal\n",
    "conda create -n scrnaseq_course python=3.9 # creates a virtual environment with name 'scrnaseq_course' using python version 3.9"
   ]
  },
  {
   "attachments": {},
   "cell_type": "markdown",
   "metadata": {},
   "source": [
    "Then, activate the environment:"
   ]
  },
  {
   "cell_type": "code",
   "execution_count": null,
   "metadata": {},
   "outputs": [],
   "source": [
    "# Run in terminal\n",
    "conda activate scrnaseq_course # Activates the 'scrnaseq_course' environment"
   ]
  },
  {
   "attachments": {},
   "cell_type": "markdown",
   "metadata": {},
   "source": [
    "Within the environment, python packages can now be installed:"
   ]
  },
  {
   "cell_type": "code",
   "execution_count": null,
   "metadata": {},
   "outputs": [],
   "source": [
    "# Run in terminal\n",
    "conda install -c conda-forge jupyterlab # installs the components needed to run a local jupyter notebook\n",
    "pip install scrnatools -q # installs the packages needed for this course"
   ]
  },
  {
   "attachments": {},
   "cell_type": "markdown",
   "metadata": {},
   "source": [
    "Now, a jupyter server can be launched to edit/create/run jupyter notebooks on your local machine:"
   ]
  },
  {
   "cell_type": "code",
   "execution_count": null,
   "metadata": {},
   "outputs": [],
   "source": [
    "# Run in terminal\n",
    "jupyter lab # This will launch the jupyter lab interface in your default web browser"
   ]
  },
  {
   "attachments": {},
   "cell_type": "markdown",
   "metadata": {},
   "source": [
    "Note that the directory you launch 'jupyter lab' from in the terminal will dictate what files are accessible within the jupyter lab interface (all subdirectorie of the current folder). To change to a different location on your computer:"
   ]
  },
  {
   "cell_type": "code",
   "execution_count": null,
   "metadata": {},
   "outputs": [],
   "source": [
    "# Run in terminal\n",
    "cd path/to/directory # changes your directory in the terminal to the specified path"
   ]
  },
  {
   "attachments": {},
   "cell_type": "markdown",
   "metadata": {},
   "source": [
    "To shut down the jupyter server, either select File > Shut Down, or close the browser and terminal running the local jupyter server. To deactivate your conda environment:"
   ]
  },
  {
   "cell_type": "code",
   "execution_count": null,
   "metadata": {},
   "outputs": [],
   "source": [
    "# Run in terminal\n",
    "conda deactivate # returns to the base python installation"
   ]
  },
  {
   "attachments": {},
   "cell_type": "markdown",
   "metadata": {},
   "source": [
    "Other usefull conda commands:"
   ]
  },
  {
   "cell_type": "code",
   "execution_count": null,
   "metadata": {},
   "outputs": [],
   "source": [
    "# Run in terminal\n",
    "conda env list # lists all available conda environments\n",
    "conda env remove -n scrnaseq_course # deletes a conda environment with syntax 'conda env remove -n <env name>'"
   ]
  },
  {
   "attachments": {},
   "cell_type": "markdown",
   "metadata": {},
   "source": [
    "## Python basics"
   ]
  },
  {
   "attachments": {},
   "cell_type": "markdown",
   "metadata": {},
   "source": [
    "### Importing installed packages for use"
   ]
  },
  {
   "attachments": {},
   "cell_type": "markdown",
   "metadata": {},
   "source": [
    "After a package has been installed to a python environment, for it to be used in a python script/jupyter notebook, it has to be imported. This must be done at the start of every script or whenever a kernel is started/restarted"
   ]
  },
  {
   "cell_type": "code",
   "execution_count": 4,
   "metadata": {},
   "outputs": [],
   "source": [
    "import pandas"
   ]
  },
  {
   "attachments": {},
   "cell_type": "markdown",
   "metadata": {},
   "source": [
    "Methods within a package can then be accessed for use in other cells:"
   ]
  },
  {
   "cell_type": "code",
   "execution_count": 10,
   "metadata": {},
   "outputs": [
    {
     "data": {
      "text/html": [
       "<div>\n",
       "<style scoped>\n",
       "    .dataframe tbody tr th:only-of-type {\n",
       "        vertical-align: middle;\n",
       "    }\n",
       "\n",
       "    .dataframe tbody tr th {\n",
       "        vertical-align: top;\n",
       "    }\n",
       "\n",
       "    .dataframe thead th {\n",
       "        text-align: right;\n",
       "    }\n",
       "</style>\n",
       "<table border=\"1\" class=\"dataframe\">\n",
       "  <thead>\n",
       "    <tr style=\"text-align: right;\">\n",
       "      <th></th>\n",
       "    </tr>\n",
       "  </thead>\n",
       "  <tbody>\n",
       "  </tbody>\n",
       "</table>\n",
       "</div>"
      ],
      "text/plain": [
       "Empty DataFrame\n",
       "Columns: []\n",
       "Index: []"
      ]
     },
     "execution_count": 10,
     "metadata": {},
     "output_type": "execute_result"
    }
   ],
   "source": [
    "pandas.DataFrame() # The syntax for accessing a package's methods is generally <package name>.<method name>"
   ]
  },
  {
   "attachments": {},
   "cell_type": "markdown",
   "metadata": {},
   "source": [
    "Packages can also be imported with an alias so the whole package name doesn't have to be used when accessing it's methods:"
   ]
  },
  {
   "cell_type": "code",
   "execution_count": 11,
   "metadata": {},
   "outputs": [
    {
     "data": {
      "text/html": [
       "<div>\n",
       "<style scoped>\n",
       "    .dataframe tbody tr th:only-of-type {\n",
       "        vertical-align: middle;\n",
       "    }\n",
       "\n",
       "    .dataframe tbody tr th {\n",
       "        vertical-align: top;\n",
       "    }\n",
       "\n",
       "    .dataframe thead th {\n",
       "        text-align: right;\n",
       "    }\n",
       "</style>\n",
       "<table border=\"1\" class=\"dataframe\">\n",
       "  <thead>\n",
       "    <tr style=\"text-align: right;\">\n",
       "      <th></th>\n",
       "    </tr>\n",
       "  </thead>\n",
       "  <tbody>\n",
       "  </tbody>\n",
       "</table>\n",
       "</div>"
      ],
      "text/plain": [
       "Empty DataFrame\n",
       "Columns: []\n",
       "Index: []"
      ]
     },
     "execution_count": 11,
     "metadata": {},
     "output_type": "execute_result"
    }
   ],
   "source": [
    "import pandas as pd\n",
    "pd.DataFrame()"
   ]
  },
  {
   "attachments": {},
   "cell_type": "markdown",
   "metadata": {},
   "source": [
    "Finally, if only a single method is needed from a given package, it can be directly imported, removing the need to use the package name in method calls at all (and also saving memory usage by not loading unnecessary methods):"
   ]
  },
  {
   "cell_type": "code",
   "execution_count": 13,
   "metadata": {},
   "outputs": [
    {
     "data": {
      "text/html": [
       "<div>\n",
       "<style scoped>\n",
       "    .dataframe tbody tr th:only-of-type {\n",
       "        vertical-align: middle;\n",
       "    }\n",
       "\n",
       "    .dataframe tbody tr th {\n",
       "        vertical-align: top;\n",
       "    }\n",
       "\n",
       "    .dataframe thead th {\n",
       "        text-align: right;\n",
       "    }\n",
       "</style>\n",
       "<table border=\"1\" class=\"dataframe\">\n",
       "  <thead>\n",
       "    <tr style=\"text-align: right;\">\n",
       "      <th></th>\n",
       "    </tr>\n",
       "  </thead>\n",
       "  <tbody>\n",
       "  </tbody>\n",
       "</table>\n",
       "</div>"
      ],
      "text/plain": [
       "Empty DataFrame\n",
       "Columns: []\n",
       "Index: []"
      ]
     },
     "execution_count": 13,
     "metadata": {},
     "output_type": "execute_result"
    }
   ],
   "source": [
    "from pandas import DataFrame\n",
    "DataFrame()"
   ]
  },
  {
   "attachments": {},
   "cell_type": "markdown",
   "metadata": {},
   "source": [
    "### General code syntax"
   ]
  },
  {
   "attachments": {},
   "cell_type": "markdown",
   "metadata": {},
   "source": [
    "Data that you load or generate within a notebook/script are stored as **variables** using an '=' that you assign a unique name so they can be operated or accessed later on within that script/notebook"
   ]
  },
  {
   "cell_type": "code",
   "execution_count": 15,
   "metadata": {},
   "outputs": [
    {
     "name": "stdout",
     "output_type": "stream",
     "text": [
      "33\n"
     ]
    }
   ],
   "source": [
    "myVar = 23 # Stores a variable called 'myVar'\n",
    "myVar = myVar + 10 # Adds 10 to 'myVar'\n",
    "print(myVar) # Prints the current value of 'myVar'"
   ]
  },
  {
   "attachments": {},
   "cell_type": "markdown",
   "metadata": {},
   "source": [
    "**Methods** are python functions that take input parameters, perform a particular operation or set of operations based on those parameters, and return/store the result. These can be built-in methods (i.e. numerical operations), methods included in external python packages (i.e. plotting methods in matplotlib), or custom user-defined methods."
   ]
  },
  {
   "cell_type": "code",
   "execution_count": 60,
   "metadata": {},
   "outputs": [
    {
     "name": "stdout",
     "output_type": "stream",
     "text": [
      "[1, 2, 3, 4, 5, 6]\n",
      "[6, 5, 4, 3, 2, 1]\n"
     ]
    }
   ],
   "source": [
    "myList = [1,3,2,4,6,5]\n",
    "myList.sort(reverse=False) # executing a method has syntax <method_name>(<parameter_1_name> = <parameter_1_value>, etc)\n",
    "print(myList)\n",
    "myList.sort(reverse=True)\n",
    "print(myList)"
   ]
  },
  {
   "attachments": {},
   "cell_type": "markdown",
   "metadata": {},
   "source": [
    "Some methods operate directly on a variable (i.e. sort() above), but most just take a list of parameters and return the result"
   ]
  },
  {
   "cell_type": "code",
   "execution_count": 64,
   "metadata": {},
   "outputs": [
    {
     "name": "stdout",
     "output_type": "stream",
     "text": [
      "[6, 5, 4, 3, 2, 1]\n"
     ]
    }
   ],
   "source": [
    "myList = [1,3,2,4,6,5]\n",
    "myListSorted = sorted(myList, reverse=True)\n",
    "print(myListSorted)"
   ]
  },
  {
   "attachments": {},
   "cell_type": "markdown",
   "metadata": {},
   "source": [
    "Logical comparisons have their own symbolic operators:\n",
    "- less than: <\n",
    "- greater than: >\n",
    "- equal: ==\n",
    "- not equal: !=\n",
    "- greater than or equal: >=\n",
    "- less than or equal: <=\n",
    "When comparing numbers/variables with these operators the result is returned as a boolean (True/False variable)"
   ]
  },
  {
   "cell_type": "code",
   "execution_count": 50,
   "metadata": {},
   "outputs": [
    {
     "name": "stdout",
     "output_type": "stream",
     "text": [
      "False\n",
      "True\n"
     ]
    }
   ],
   "source": [
    "print(8 > 9)\n",
    "\n",
    "varOne = 10\n",
    "varTwo = 11\n",
    "print(varOne != varTwo)"
   ]
  },
  {
   "attachments": {},
   "cell_type": "markdown",
   "metadata": {},
   "source": [
    "### Variable types"
   ]
  },
  {
   "attachments": {},
   "cell_type": "markdown",
   "metadata": {},
   "source": [
    "Python variables are dynamically typed (the type of data stored in a variable is determined at runtime):"
   ]
  },
  {
   "cell_type": "code",
   "execution_count": 2,
   "metadata": {},
   "outputs": [
    {
     "data": {
      "text/plain": [
       "int"
      ]
     },
     "execution_count": 2,
     "metadata": {},
     "output_type": "execute_result"
    }
   ],
   "source": [
    "numGenes = 1\n",
    "type(numGenes)"
   ]
  },
  {
   "cell_type": "code",
   "execution_count": 3,
   "metadata": {},
   "outputs": [
    {
     "data": {
      "text/plain": [
       "float"
      ]
     },
     "execution_count": 3,
     "metadata": {},
     "output_type": "execute_result"
    }
   ],
   "source": [
    "numGenes = 1.0\n",
    "type(numGenes)"
   ]
  },
  {
   "cell_type": "code",
   "execution_count": 4,
   "metadata": {},
   "outputs": [
    {
     "data": {
      "text/plain": [
       "str"
      ]
     },
     "execution_count": 4,
     "metadata": {},
     "output_type": "execute_result"
    }
   ],
   "source": [
    "numGenes = \"one\"\n",
    "type(numGenes)"
   ]
  },
  {
   "attachments": {},
   "cell_type": "markdown",
   "metadata": {},
   "source": [
    "Variables can also be a list of values:"
   ]
  },
  {
   "cell_type": "code",
   "execution_count": 35,
   "metadata": {},
   "outputs": [
    {
     "name": "stdout",
     "output_type": "stream",
     "text": [
      "[0, 1, 2, 3, 3, 4, 5]\n",
      "['list', 'of', 'strings']\n",
      "[0, 1, 'two', 3, 4.0, 5]\n"
     ]
    }
   ],
   "source": [
    "myList = [0,1,2,3,3,4,5]\n",
    "print(myList)\n",
    "myList = [\"list\", \"of\", \"strings\"]\n",
    "print(myList)\n",
    "myList = [0,1, \"two\", 3, 4.0, 5] # Lists can contain mixed data types\n",
    "print(myList)"
   ]
  },
  {
   "attachments": {},
   "cell_type": "markdown",
   "metadata": {},
   "source": [
    "Elements within a list can be accessed using their numerical index (starting from 0):"
   ]
  },
  {
   "cell_type": "code",
   "execution_count": 43,
   "metadata": {},
   "outputs": [
    {
     "name": "stdout",
     "output_type": "stream",
     "text": [
      "[0, 1, 'two', 3, 4.0, 5]\n",
      "0\n",
      "two\n",
      "5\n",
      "4.0\n",
      "[0, 1, 'two']\n"
     ]
    }
   ],
   "source": [
    "print(myList)\n",
    "print(myList[0])\n",
    "print(myList[2])\n",
    "print(myList[-1]) # Elements can be extracted from the end of a list using the syntax -<num of indicies from end>\n",
    "print(myList[-2])\n",
    "print(myList[0:3]) # multiple elements can be extracted using the syntax [start index (inclusive):end index (exclusive)]"
   ]
  },
  {
   "attachments": {},
   "cell_type": "markdown",
   "metadata": {},
   "source": [
    "A set of values (does not contain duplicates):"
   ]
  },
  {
   "cell_type": "code",
   "execution_count": 25,
   "metadata": {},
   "outputs": [
    {
     "name": "stdout",
     "output_type": "stream",
     "text": [
      "{0, 1, 2, 3, 4}\n",
      "{0, 1, 2, 'two', 3, 4}\n"
     ]
    }
   ],
   "source": [
    "mySet = {0,1,2,2,3,3,4,4,4,4}\n",
    "print(mySet)\n",
    "mySet = {0,1,2,\"two\",3,3,4,4,4,4}# Sets can also contain mixed data types\n",
    "print(mySet)"
   ]
  },
  {
   "attachments": {},
   "cell_type": "markdown",
   "metadata": {},
   "source": [
    "Or a dictionary or key-value pairs:"
   ]
  },
  {
   "cell_type": "code",
   "execution_count": 31,
   "metadata": {},
   "outputs": [
    {
     "name": "stdout",
     "output_type": "stream",
     "text": [
      "1\n",
      "dict_keys(['apples', 'oranges'])\n",
      "dict_values([1, 10])\n"
     ]
    }
   ],
   "source": [
    "myDict = {\"apples\": 1, \"oranges\":10} # dictionaries also use '{}' syntax, but here keys are seperated from values by ':' and key-value pairs are seperated from each other by ','\n",
    "print(myDict[\"apples\"]) # The value for a specified key can be extracted\n",
    "print(myDict.keys()) # Or all the keys can be extracted\n",
    "print(myDict.values()) # Or all the values can be extracted"
   ]
  },
  {
   "attachments": {},
   "cell_type": "markdown",
   "metadata": {},
   "source": [
    "Keys and values in dictionaries can be any data type:"
   ]
  },
  {
   "cell_type": "code",
   "execution_count": 32,
   "metadata": {},
   "outputs": [
    {
     "name": "stdout",
     "output_type": "stream",
     "text": [
      "[1, 2, 3]\n",
      "{'pears', 'oranges'}\n"
     ]
    }
   ],
   "source": [
    "myDict = {\"apples\": [1,2,3], 10:{\"oranges\", \"pears\", \"pears\"}}\n",
    "print(myDict[\"apples\"])\n",
    "print(myDict[10])"
   ]
  },
  {
   "attachments": {},
   "cell_type": "markdown",
   "metadata": {},
   "source": [
    "### Variable naming conventions"
   ]
  },
  {
   "attachments": {},
   "cell_type": "markdown",
   "metadata": {},
   "source": [
    "Variables are usually named using camel case (first letter of each word is capitalized except for the first word): listOfFruits, listOfNumbers, etc.\n",
    "<br> Alternatively, seperating words by underscores is also acceptable: list_of_fruits, list_of_numbers.\n",
    "<br> **ALWAYS** use descriptive variable names\n",
    "<br> It is also helpful to leave a code comment describing the data source/type if a variable is being populated with data loaded from a file"
   ]
  },
  {
   "cell_type": "code",
   "execution_count": 47,
   "metadata": {},
   "outputs": [],
   "source": [
    "# Bad variable names\n",
    "list1 = []\n",
    "list2 = []\n",
    "listofusersnames = []\n",
    "testVariable = []\n",
    "placeholder_var = []"
   ]
  },
  {
   "cell_type": "code",
   "execution_count": 48,
   "metadata": {},
   "outputs": [],
   "source": [
    "# Good variable names\n",
    "usernames = []\n",
    "wtThymusDataset = []\n",
    "target_genes = []"
   ]
  },
  {
   "attachments": {},
   "cell_type": "markdown",
   "metadata": {},
   "source": [
    "## Introduction to pandas"
   ]
  },
  {
   "cell_type": "code",
   "execution_count": 66,
   "metadata": {},
   "outputs": [],
   "source": [
    "import pandas as pd"
   ]
  },
  {
   "attachments": {},
   "cell_type": "markdown",
   "metadata": {},
   "source": [
    "Beyond the built in data tyes, more complex data structures that are built from the basic data types (called objects) can be added using external packages. One such package is pandas, which adds data frames as an available data structure. Pandas data frames are 2-dimensional data structures (i.e. a table) with named rows and columns. There are several ways to create a data frame."
   ]
  },
  {
   "attachments": {},
   "cell_type": "markdown",
   "metadata": {},
   "source": [
    "1. By providing a list of lists, where each sublist is one row in the dataframe"
   ]
  },
  {
   "cell_type": "code",
   "execution_count": 65,
   "metadata": {},
   "outputs": [
    {
     "data": {
      "text/html": [
       "<div>\n",
       "<style scoped>\n",
       "    .dataframe tbody tr th:only-of-type {\n",
       "        vertical-align: middle;\n",
       "    }\n",
       "\n",
       "    .dataframe tbody tr th {\n",
       "        vertical-align: top;\n",
       "    }\n",
       "\n",
       "    .dataframe thead th {\n",
       "        text-align: right;\n",
       "    }\n",
       "</style>\n",
       "<table border=\"1\" class=\"dataframe\">\n",
       "  <thead>\n",
       "    <tr style=\"text-align: right;\">\n",
       "      <th></th>\n",
       "      <th>0</th>\n",
       "      <th>1</th>\n",
       "      <th>2</th>\n",
       "    </tr>\n",
       "  </thead>\n",
       "  <tbody>\n",
       "    <tr>\n",
       "      <th>0</th>\n",
       "      <td>1</td>\n",
       "      <td>2</td>\n",
       "      <td>3</td>\n",
       "    </tr>\n",
       "    <tr>\n",
       "      <th>1</th>\n",
       "      <td>4</td>\n",
       "      <td>5</td>\n",
       "      <td>6</td>\n",
       "    </tr>\n",
       "  </tbody>\n",
       "</table>\n",
       "</div>"
      ],
      "text/plain": [
       "   0  1  2\n",
       "0  1  2  3\n",
       "1  4  5  6"
      ]
     },
     "execution_count": 65,
     "metadata": {},
     "output_type": "execute_result"
    }
   ],
   "source": [
    "pd.DataFrame([[1,2,3], [4,5,6]])"
   ]
  },
  {
   "attachments": {},
   "cell_type": "markdown",
   "metadata": {},
   "source": [
    "2. By providing a dictionary, where keys are the column names and values are lists containing that column's values"
   ]
  },
  {
   "cell_type": "code",
   "execution_count": 67,
   "metadata": {},
   "outputs": [
    {
     "data": {
      "text/html": [
       "<div>\n",
       "<style scoped>\n",
       "    .dataframe tbody tr th:only-of-type {\n",
       "        vertical-align: middle;\n",
       "    }\n",
       "\n",
       "    .dataframe tbody tr th {\n",
       "        vertical-align: top;\n",
       "    }\n",
       "\n",
       "    .dataframe thead th {\n",
       "        text-align: right;\n",
       "    }\n",
       "</style>\n",
       "<table border=\"1\" class=\"dataframe\">\n",
       "  <thead>\n",
       "    <tr style=\"text-align: right;\">\n",
       "      <th></th>\n",
       "      <th>fruits</th>\n",
       "      <th>numbers</th>\n",
       "    </tr>\n",
       "  </thead>\n",
       "  <tbody>\n",
       "    <tr>\n",
       "      <th>0</th>\n",
       "      <td>apples</td>\n",
       "      <td>1</td>\n",
       "    </tr>\n",
       "    <tr>\n",
       "      <th>1</th>\n",
       "      <td>oranges</td>\n",
       "      <td>2</td>\n",
       "    </tr>\n",
       "    <tr>\n",
       "      <th>2</th>\n",
       "      <td>pears</td>\n",
       "      <td>3</td>\n",
       "    </tr>\n",
       "  </tbody>\n",
       "</table>\n",
       "</div>"
      ],
      "text/plain": [
       "    fruits  numbers\n",
       "0   apples        1\n",
       "1  oranges        2\n",
       "2    pears        3"
      ]
     },
     "execution_count": 67,
     "metadata": {},
     "output_type": "execute_result"
    }
   ],
   "source": [
    "dictionary = {\"fruits\": [\"apples\", \"oranges\", \"pears\"], \"numbers\":[1,2,3]}\n",
    "pd.DataFrame(dictionary)"
   ]
  },
  {
   "attachments": {},
   "cell_type": "markdown",
   "metadata": {},
   "source": [
    "3. By providing either 1, or 2, along with a list containing specified row names and/or a list containing specified column names"
   ]
  },
  {
   "cell_type": "code",
   "execution_count": 73,
   "metadata": {},
   "outputs": [
    {
     "data": {
      "text/html": [
       "<div>\n",
       "<style scoped>\n",
       "    .dataframe tbody tr th:only-of-type {\n",
       "        vertical-align: middle;\n",
       "    }\n",
       "\n",
       "    .dataframe tbody tr th {\n",
       "        vertical-align: top;\n",
       "    }\n",
       "\n",
       "    .dataframe thead th {\n",
       "        text-align: right;\n",
       "    }\n",
       "</style>\n",
       "<table border=\"1\" class=\"dataframe\">\n",
       "  <thead>\n",
       "    <tr style=\"text-align: right;\">\n",
       "      <th></th>\n",
       "      <th>column_1</th>\n",
       "      <th>column_2</th>\n",
       "      <th>column_3</th>\n",
       "    </tr>\n",
       "  </thead>\n",
       "  <tbody>\n",
       "    <tr>\n",
       "      <th>row_1</th>\n",
       "      <td>1</td>\n",
       "      <td>2</td>\n",
       "      <td>3</td>\n",
       "    </tr>\n",
       "    <tr>\n",
       "      <th>row_2</th>\n",
       "      <td>4</td>\n",
       "      <td>5</td>\n",
       "      <td>6</td>\n",
       "    </tr>\n",
       "  </tbody>\n",
       "</table>\n",
       "</div>"
      ],
      "text/plain": [
       "       column_1  column_2  column_3\n",
       "row_1         1         2         3\n",
       "row_2         4         5         6"
      ]
     },
     "metadata": {},
     "output_type": "display_data"
    },
    {
     "data": {
      "text/html": [
       "<div>\n",
       "<style scoped>\n",
       "    .dataframe tbody tr th:only-of-type {\n",
       "        vertical-align: middle;\n",
       "    }\n",
       "\n",
       "    .dataframe tbody tr th {\n",
       "        vertical-align: top;\n",
       "    }\n",
       "\n",
       "    .dataframe thead th {\n",
       "        text-align: right;\n",
       "    }\n",
       "</style>\n",
       "<table border=\"1\" class=\"dataframe\">\n",
       "  <thead>\n",
       "    <tr style=\"text-align: right;\">\n",
       "      <th></th>\n",
       "      <th>fruits</th>\n",
       "      <th>numbers</th>\n",
       "    </tr>\n",
       "  </thead>\n",
       "  <tbody>\n",
       "    <tr>\n",
       "      <th>row_1</th>\n",
       "      <td>apples</td>\n",
       "      <td>1</td>\n",
       "    </tr>\n",
       "    <tr>\n",
       "      <th>row_2</th>\n",
       "      <td>oranges</td>\n",
       "      <td>2</td>\n",
       "    </tr>\n",
       "    <tr>\n",
       "      <th>row_3</th>\n",
       "      <td>pears</td>\n",
       "      <td>3</td>\n",
       "    </tr>\n",
       "  </tbody>\n",
       "</table>\n",
       "</div>"
      ],
      "text/plain": [
       "        fruits  numbers\n",
       "row_1   apples        1\n",
       "row_2  oranges        2\n",
       "row_3    pears        3"
      ]
     },
     "metadata": {},
     "output_type": "display_data"
    }
   ],
   "source": [
    "dataframe = pd.DataFrame([[1,2,3], [4,5,6]], index=[\"row_1\", \"row_2\"], columns=[\"column_1\", \"column_2\", \"column_3\"])\n",
    "display(dataframe) # instead of using print(), display() will show an easier to read representation of a DataFrame object\n",
    "\n",
    "dictionary = {\"fruits\": [\"apples\", \"oranges\", \"pears\"], \"numbers\":[1,2,3]}\n",
    "dataframe = pd.DataFrame(dictionary, index=[\"row_1\", \"row_2\", \"row_3\"])\n",
    "display(dataframe)"
   ]
  },
  {
   "attachments": {},
   "cell_type": "markdown",
   "metadata": {},
   "source": [
    "Portions of a data frame can be extracted by 'slicing' the data frame object"
   ]
  },
  {
   "cell_type": "code",
   "execution_count": 84,
   "metadata": {},
   "outputs": [
    {
     "data": {
      "text/html": [
       "<div>\n",
       "<style scoped>\n",
       "    .dataframe tbody tr th:only-of-type {\n",
       "        vertical-align: middle;\n",
       "    }\n",
       "\n",
       "    .dataframe tbody tr th {\n",
       "        vertical-align: top;\n",
       "    }\n",
       "\n",
       "    .dataframe thead th {\n",
       "        text-align: right;\n",
       "    }\n",
       "</style>\n",
       "<table border=\"1\" class=\"dataframe\">\n",
       "  <thead>\n",
       "    <tr style=\"text-align: right;\">\n",
       "      <th></th>\n",
       "      <th>fruits</th>\n",
       "      <th>shapes</th>\n",
       "    </tr>\n",
       "  </thead>\n",
       "  <tbody>\n",
       "    <tr>\n",
       "      <th>row_1</th>\n",
       "      <td>apples</td>\n",
       "      <td>triangle</td>\n",
       "    </tr>\n",
       "    <tr>\n",
       "      <th>row_2</th>\n",
       "      <td>oranges</td>\n",
       "      <td>square</td>\n",
       "    </tr>\n",
       "    <tr>\n",
       "      <th>row_3</th>\n",
       "      <td>pears</td>\n",
       "      <td>circle</td>\n",
       "    </tr>\n",
       "  </tbody>\n",
       "</table>\n",
       "</div>"
      ],
      "text/plain": [
       "        fruits    shapes\n",
       "row_1   apples  triangle\n",
       "row_2  oranges    square\n",
       "row_3    pears    circle"
      ]
     },
     "metadata": {},
     "output_type": "display_data"
    },
    {
     "data": {
      "text/plain": [
       "row_1    1\n",
       "row_2    2\n",
       "row_3    3\n",
       "Name: numbers, dtype: int64"
      ]
     },
     "metadata": {},
     "output_type": "display_data"
    }
   ],
   "source": [
    "dictionary = {\"fruits\": [\"apples\", \"oranges\", \"pears\"], \"numbers\":[1,2,3], \"shapes\":[\"triangle\", \"square\", \"circle\"]}\n",
    "dataframe = pd.DataFrame(dictionary, index=[\"row_1\", \"row_2\", \"row_3\"])\n",
    "\n",
    "display(dataframe[[\"fruits\", \"shapes\"]]) # Slicing a data frame based on a list of column names\n",
    "\n",
    "display(dataframe.numbers) # single columns can also be extracted using the syntax <df name>.<column name>"
   ]
  },
  {
   "attachments": {},
   "cell_type": "markdown",
   "metadata": {},
   "source": [
    "Comparison logic can also be used to subset a dataframe on only rows where the value in a certain column fullfills a condition:"
   ]
  },
  {
   "cell_type": "code",
   "execution_count": 87,
   "metadata": {},
   "outputs": [
    {
     "data": {
      "text/html": [
       "<div>\n",
       "<style scoped>\n",
       "    .dataframe tbody tr th:only-of-type {\n",
       "        vertical-align: middle;\n",
       "    }\n",
       "\n",
       "    .dataframe tbody tr th {\n",
       "        vertical-align: top;\n",
       "    }\n",
       "\n",
       "    .dataframe thead th {\n",
       "        text-align: right;\n",
       "    }\n",
       "</style>\n",
       "<table border=\"1\" class=\"dataframe\">\n",
       "  <thead>\n",
       "    <tr style=\"text-align: right;\">\n",
       "      <th></th>\n",
       "      <th>fruits</th>\n",
       "      <th>numbers</th>\n",
       "      <th>shapes</th>\n",
       "    </tr>\n",
       "  </thead>\n",
       "  <tbody>\n",
       "    <tr>\n",
       "      <th>row_1</th>\n",
       "      <td>apples</td>\n",
       "      <td>1</td>\n",
       "      <td>triangle</td>\n",
       "    </tr>\n",
       "  </tbody>\n",
       "</table>\n",
       "</div>"
      ],
      "text/plain": [
       "       fruits  numbers    shapes\n",
       "row_1  apples        1  triangle"
      ]
     },
     "execution_count": 87,
     "metadata": {},
     "output_type": "execute_result"
    }
   ],
   "source": [
    "dataframe[dataframe.fruits == \"apples\"]"
   ]
  },
  {
   "attachments": {},
   "cell_type": "markdown",
   "metadata": {},
   "source": [
    "Subsetting on both rows and columns can be performed using '.loc' (when slicing with row/column labels) or '.iloc' (when slicing with row/column indicies):"
   ]
  },
  {
   "cell_type": "code",
   "execution_count": 96,
   "metadata": {},
   "outputs": [
    {
     "data": {
      "text/html": [
       "<div>\n",
       "<style scoped>\n",
       "    .dataframe tbody tr th:only-of-type {\n",
       "        vertical-align: middle;\n",
       "    }\n",
       "\n",
       "    .dataframe tbody tr th {\n",
       "        vertical-align: top;\n",
       "    }\n",
       "\n",
       "    .dataframe thead th {\n",
       "        text-align: right;\n",
       "    }\n",
       "</style>\n",
       "<table border=\"1\" class=\"dataframe\">\n",
       "  <thead>\n",
       "    <tr style=\"text-align: right;\">\n",
       "      <th></th>\n",
       "      <th>fruits</th>\n",
       "      <th>numbers</th>\n",
       "      <th>shapes</th>\n",
       "    </tr>\n",
       "  </thead>\n",
       "  <tbody>\n",
       "    <tr>\n",
       "      <th>row_1</th>\n",
       "      <td>apples</td>\n",
       "      <td>1</td>\n",
       "      <td>triangle</td>\n",
       "    </tr>\n",
       "    <tr>\n",
       "      <th>row_2</th>\n",
       "      <td>oranges</td>\n",
       "      <td>2</td>\n",
       "      <td>square</td>\n",
       "    </tr>\n",
       "    <tr>\n",
       "      <th>row_3</th>\n",
       "      <td>pears</td>\n",
       "      <td>3</td>\n",
       "      <td>circle</td>\n",
       "    </tr>\n",
       "  </tbody>\n",
       "</table>\n",
       "</div>"
      ],
      "text/plain": [
       "        fruits  numbers    shapes\n",
       "row_1   apples        1  triangle\n",
       "row_2  oranges        2    square\n",
       "row_3    pears        3    circle"
      ]
     },
     "metadata": {},
     "output_type": "display_data"
    },
    {
     "data": {
      "text/plain": [
       "'oranges'"
      ]
     },
     "metadata": {},
     "output_type": "display_data"
    },
    {
     "data": {
      "text/html": [
       "<div>\n",
       "<style scoped>\n",
       "    .dataframe tbody tr th:only-of-type {\n",
       "        vertical-align: middle;\n",
       "    }\n",
       "\n",
       "    .dataframe tbody tr th {\n",
       "        vertical-align: top;\n",
       "    }\n",
       "\n",
       "    .dataframe thead th {\n",
       "        text-align: right;\n",
       "    }\n",
       "</style>\n",
       "<table border=\"1\" class=\"dataframe\">\n",
       "  <thead>\n",
       "    <tr style=\"text-align: right;\">\n",
       "      <th></th>\n",
       "      <th>fruits</th>\n",
       "      <th>numbers</th>\n",
       "    </tr>\n",
       "  </thead>\n",
       "  <tbody>\n",
       "    <tr>\n",
       "      <th>row_2</th>\n",
       "      <td>oranges</td>\n",
       "      <td>2</td>\n",
       "    </tr>\n",
       "    <tr>\n",
       "      <th>row_1</th>\n",
       "      <td>apples</td>\n",
       "      <td>1</td>\n",
       "    </tr>\n",
       "  </tbody>\n",
       "</table>\n",
       "</div>"
      ],
      "text/plain": [
       "        fruits  numbers\n",
       "row_2  oranges        2\n",
       "row_1   apples        1"
      ]
     },
     "metadata": {},
     "output_type": "display_data"
    },
    {
     "data": {
      "text/html": [
       "<div>\n",
       "<style scoped>\n",
       "    .dataframe tbody tr th:only-of-type {\n",
       "        vertical-align: middle;\n",
       "    }\n",
       "\n",
       "    .dataframe tbody tr th {\n",
       "        vertical-align: top;\n",
       "    }\n",
       "\n",
       "    .dataframe thead th {\n",
       "        text-align: right;\n",
       "    }\n",
       "</style>\n",
       "<table border=\"1\" class=\"dataframe\">\n",
       "  <thead>\n",
       "    <tr style=\"text-align: right;\">\n",
       "      <th></th>\n",
       "      <th>fruits</th>\n",
       "      <th>numbers</th>\n",
       "    </tr>\n",
       "  </thead>\n",
       "  <tbody>\n",
       "    <tr>\n",
       "      <th>row_1</th>\n",
       "      <td>apples</td>\n",
       "      <td>1</td>\n",
       "    </tr>\n",
       "    <tr>\n",
       "      <th>row_2</th>\n",
       "      <td>oranges</td>\n",
       "      <td>2</td>\n",
       "    </tr>\n",
       "    <tr>\n",
       "      <th>row_3</th>\n",
       "      <td>pears</td>\n",
       "      <td>3</td>\n",
       "    </tr>\n",
       "  </tbody>\n",
       "</table>\n",
       "</div>"
      ],
      "text/plain": [
       "        fruits  numbers\n",
       "row_1   apples        1\n",
       "row_2  oranges        2\n",
       "row_3    pears        3"
      ]
     },
     "metadata": {},
     "output_type": "display_data"
    }
   ],
   "source": [
    "display(dataframe)\n",
    "\n",
    "# Label based slicing\n",
    "display(dataframe.loc[\"row_2\", \"fruits\"]) # syntax is <df name>.loc[<row>, <column>]\n",
    "display(dataframe.loc[[\"row_2\", \"row_1\"], [\"fruits\", \"numbers\"]]) # columns and rows to subset on can also be provided as a list\n",
    "display(dataframe.loc[:, [\"fruits\", \"numbers\"]]) # Selecting all rows (or columns) can be denoted by using ':' instead of a list of labels"
   ]
  },
  {
   "cell_type": "code",
   "execution_count": 101,
   "metadata": {},
   "outputs": [
    {
     "data": {
      "text/html": [
       "<div>\n",
       "<style scoped>\n",
       "    .dataframe tbody tr th:only-of-type {\n",
       "        vertical-align: middle;\n",
       "    }\n",
       "\n",
       "    .dataframe tbody tr th {\n",
       "        vertical-align: top;\n",
       "    }\n",
       "\n",
       "    .dataframe thead th {\n",
       "        text-align: right;\n",
       "    }\n",
       "</style>\n",
       "<table border=\"1\" class=\"dataframe\">\n",
       "  <thead>\n",
       "    <tr style=\"text-align: right;\">\n",
       "      <th></th>\n",
       "      <th>fruits</th>\n",
       "      <th>numbers</th>\n",
       "      <th>shapes</th>\n",
       "    </tr>\n",
       "  </thead>\n",
       "  <tbody>\n",
       "    <tr>\n",
       "      <th>row_1</th>\n",
       "      <td>apples</td>\n",
       "      <td>1</td>\n",
       "      <td>triangle</td>\n",
       "    </tr>\n",
       "    <tr>\n",
       "      <th>row_2</th>\n",
       "      <td>oranges</td>\n",
       "      <td>2</td>\n",
       "      <td>square</td>\n",
       "    </tr>\n",
       "    <tr>\n",
       "      <th>row_3</th>\n",
       "      <td>pears</td>\n",
       "      <td>3</td>\n",
       "      <td>circle</td>\n",
       "    </tr>\n",
       "  </tbody>\n",
       "</table>\n",
       "</div>"
      ],
      "text/plain": [
       "        fruits  numbers    shapes\n",
       "row_1   apples        1  triangle\n",
       "row_2  oranges        2    square\n",
       "row_3    pears        3    circle"
      ]
     },
     "metadata": {},
     "output_type": "display_data"
    },
    {
     "data": {
      "text/plain": [
       "'oranges'"
      ]
     },
     "metadata": {},
     "output_type": "display_data"
    },
    {
     "data": {
      "text/html": [
       "<div>\n",
       "<style scoped>\n",
       "    .dataframe tbody tr th:only-of-type {\n",
       "        vertical-align: middle;\n",
       "    }\n",
       "\n",
       "    .dataframe tbody tr th {\n",
       "        vertical-align: top;\n",
       "    }\n",
       "\n",
       "    .dataframe thead th {\n",
       "        text-align: right;\n",
       "    }\n",
       "</style>\n",
       "<table border=\"1\" class=\"dataframe\">\n",
       "  <thead>\n",
       "    <tr style=\"text-align: right;\">\n",
       "      <th></th>\n",
       "      <th>fruits</th>\n",
       "      <th>numbers</th>\n",
       "    </tr>\n",
       "  </thead>\n",
       "  <tbody>\n",
       "    <tr>\n",
       "      <th>row_2</th>\n",
       "      <td>oranges</td>\n",
       "      <td>2</td>\n",
       "    </tr>\n",
       "    <tr>\n",
       "      <th>row_1</th>\n",
       "      <td>apples</td>\n",
       "      <td>1</td>\n",
       "    </tr>\n",
       "  </tbody>\n",
       "</table>\n",
       "</div>"
      ],
      "text/plain": [
       "        fruits  numbers\n",
       "row_2  oranges        2\n",
       "row_1   apples        1"
      ]
     },
     "metadata": {},
     "output_type": "display_data"
    },
    {
     "data": {
      "text/html": [
       "<div>\n",
       "<style scoped>\n",
       "    .dataframe tbody tr th:only-of-type {\n",
       "        vertical-align: middle;\n",
       "    }\n",
       "\n",
       "    .dataframe tbody tr th {\n",
       "        vertical-align: top;\n",
       "    }\n",
       "\n",
       "    .dataframe thead th {\n",
       "        text-align: right;\n",
       "    }\n",
       "</style>\n",
       "<table border=\"1\" class=\"dataframe\">\n",
       "  <thead>\n",
       "    <tr style=\"text-align: right;\">\n",
       "      <th></th>\n",
       "      <th>fruits</th>\n",
       "      <th>numbers</th>\n",
       "    </tr>\n",
       "  </thead>\n",
       "  <tbody>\n",
       "    <tr>\n",
       "      <th>row_1</th>\n",
       "      <td>apples</td>\n",
       "      <td>1</td>\n",
       "    </tr>\n",
       "    <tr>\n",
       "      <th>row_2</th>\n",
       "      <td>oranges</td>\n",
       "      <td>2</td>\n",
       "    </tr>\n",
       "    <tr>\n",
       "      <th>row_3</th>\n",
       "      <td>pears</td>\n",
       "      <td>3</td>\n",
       "    </tr>\n",
       "  </tbody>\n",
       "</table>\n",
       "</div>"
      ],
      "text/plain": [
       "        fruits  numbers\n",
       "row_1   apples        1\n",
       "row_2  oranges        2\n",
       "row_3    pears        3"
      ]
     },
     "metadata": {},
     "output_type": "display_data"
    }
   ],
   "source": [
    "display(dataframe)\n",
    "\n",
    "# index based slicing\n",
    "display(dataframe.iloc[1, 0]) # syntax is <df name>.loc[<row index>, <column index>]\n",
    "display(dataframe.iloc[[1, 0], [0, 1]]) # columns and rows to subset on can also be provided as a list\n",
    "display(dataframe.iloc[:, [0,1]]) # Selecting all rows (or columns) can be denoted by using ':' instead of a list of labels."
   ]
  },
  {
   "attachments": {},
   "cell_type": "markdown",
   "metadata": {},
   "source": [
    "By providing an index before and after ':' (i.e 'x:y'), rows/columns can also be subset on the range of indicies [x,y):"
   ]
  },
  {
   "cell_type": "code",
   "execution_count": 102,
   "metadata": {},
   "outputs": [
    {
     "data": {
      "text/html": [
       "<div>\n",
       "<style scoped>\n",
       "    .dataframe tbody tr th:only-of-type {\n",
       "        vertical-align: middle;\n",
       "    }\n",
       "\n",
       "    .dataframe tbody tr th {\n",
       "        vertical-align: top;\n",
       "    }\n",
       "\n",
       "    .dataframe thead th {\n",
       "        text-align: right;\n",
       "    }\n",
       "</style>\n",
       "<table border=\"1\" class=\"dataframe\">\n",
       "  <thead>\n",
       "    <tr style=\"text-align: right;\">\n",
       "      <th></th>\n",
       "      <th>fruits</th>\n",
       "      <th>numbers</th>\n",
       "    </tr>\n",
       "  </thead>\n",
       "  <tbody>\n",
       "    <tr>\n",
       "      <th>row_1</th>\n",
       "      <td>apples</td>\n",
       "      <td>1</td>\n",
       "    </tr>\n",
       "    <tr>\n",
       "      <th>row_2</th>\n",
       "      <td>oranges</td>\n",
       "      <td>2</td>\n",
       "    </tr>\n",
       "    <tr>\n",
       "      <th>row_3</th>\n",
       "      <td>pears</td>\n",
       "      <td>3</td>\n",
       "    </tr>\n",
       "  </tbody>\n",
       "</table>\n",
       "</div>"
      ],
      "text/plain": [
       "        fruits  numbers\n",
       "row_1   apples        1\n",
       "row_2  oranges        2\n",
       "row_3    pears        3"
      ]
     },
     "metadata": {},
     "output_type": "display_data"
    }
   ],
   "source": [
    "display(dataframe.iloc[:, 0:2])"
   ]
  },
  {
   "attachments": {},
   "cell_type": "markdown",
   "metadata": {},
   "source": [
    "There are also several built in operations that can be performed on rows/columns (sum, mean, etc):"
   ]
  },
  {
   "cell_type": "code",
   "execution_count": 106,
   "metadata": {},
   "outputs": [
    {
     "data": {
      "text/html": [
       "<div>\n",
       "<style scoped>\n",
       "    .dataframe tbody tr th:only-of-type {\n",
       "        vertical-align: middle;\n",
       "    }\n",
       "\n",
       "    .dataframe tbody tr th {\n",
       "        vertical-align: top;\n",
       "    }\n",
       "\n",
       "    .dataframe thead th {\n",
       "        text-align: right;\n",
       "    }\n",
       "</style>\n",
       "<table border=\"1\" class=\"dataframe\">\n",
       "  <thead>\n",
       "    <tr style=\"text-align: right;\">\n",
       "      <th></th>\n",
       "      <th>col_1</th>\n",
       "      <th>col_2</th>\n",
       "      <th>col_3</th>\n",
       "    </tr>\n",
       "  </thead>\n",
       "  <tbody>\n",
       "    <tr>\n",
       "      <th>row_1</th>\n",
       "      <td>1</td>\n",
       "      <td>2</td>\n",
       "      <td>3</td>\n",
       "    </tr>\n",
       "    <tr>\n",
       "      <th>row_2</th>\n",
       "      <td>4</td>\n",
       "      <td>5</td>\n",
       "      <td>6</td>\n",
       "    </tr>\n",
       "  </tbody>\n",
       "</table>\n",
       "</div>"
      ],
      "text/plain": [
       "       col_1  col_2  col_3\n",
       "row_1      1      2      3\n",
       "row_2      4      5      6"
      ]
     },
     "metadata": {},
     "output_type": "display_data"
    },
    {
     "name": "stdout",
     "output_type": "stream",
     "text": [
      "col_1    5\n",
      "col_2    7\n",
      "col_3    9\n",
      "dtype: int64\n",
      "row_1     6\n",
      "row_2    15\n",
      "dtype: int64\n"
     ]
    }
   ],
   "source": [
    "df = pd.DataFrame([[1,2,3], [4,5,6]], index=[\"row_1\", \"row_2\"], columns=[\"col_1\", \"col_2\", \"col_3\"])\n",
    "display(df)\n",
    "print(df.sum(axis=0)) # The axis parameter determines which axis of the data frame to sum across (0 = sum across rows, 1 = sum across columns)\n",
    "print(df.sum(axis=1))"
   ]
  },
  {
   "attachments": {},
   "cell_type": "markdown",
   "metadata": {},
   "source": [
    "The rows and columns of a dataframe can be transposed:"
   ]
  },
  {
   "cell_type": "code",
   "execution_count": 108,
   "metadata": {},
   "outputs": [
    {
     "data": {
      "text/html": [
       "<div>\n",
       "<style scoped>\n",
       "    .dataframe tbody tr th:only-of-type {\n",
       "        vertical-align: middle;\n",
       "    }\n",
       "\n",
       "    .dataframe tbody tr th {\n",
       "        vertical-align: top;\n",
       "    }\n",
       "\n",
       "    .dataframe thead th {\n",
       "        text-align: right;\n",
       "    }\n",
       "</style>\n",
       "<table border=\"1\" class=\"dataframe\">\n",
       "  <thead>\n",
       "    <tr style=\"text-align: right;\">\n",
       "      <th></th>\n",
       "      <th>col_1</th>\n",
       "      <th>col_2</th>\n",
       "      <th>col_3</th>\n",
       "    </tr>\n",
       "  </thead>\n",
       "  <tbody>\n",
       "    <tr>\n",
       "      <th>row_1</th>\n",
       "      <td>1</td>\n",
       "      <td>2</td>\n",
       "      <td>3</td>\n",
       "    </tr>\n",
       "    <tr>\n",
       "      <th>row_2</th>\n",
       "      <td>4</td>\n",
       "      <td>5</td>\n",
       "      <td>6</td>\n",
       "    </tr>\n",
       "  </tbody>\n",
       "</table>\n",
       "</div>"
      ],
      "text/plain": [
       "       col_1  col_2  col_3\n",
       "row_1      1      2      3\n",
       "row_2      4      5      6"
      ]
     },
     "metadata": {},
     "output_type": "display_data"
    },
    {
     "data": {
      "text/html": [
       "<div>\n",
       "<style scoped>\n",
       "    .dataframe tbody tr th:only-of-type {\n",
       "        vertical-align: middle;\n",
       "    }\n",
       "\n",
       "    .dataframe tbody tr th {\n",
       "        vertical-align: top;\n",
       "    }\n",
       "\n",
       "    .dataframe thead th {\n",
       "        text-align: right;\n",
       "    }\n",
       "</style>\n",
       "<table border=\"1\" class=\"dataframe\">\n",
       "  <thead>\n",
       "    <tr style=\"text-align: right;\">\n",
       "      <th></th>\n",
       "      <th>row_1</th>\n",
       "      <th>row_2</th>\n",
       "    </tr>\n",
       "  </thead>\n",
       "  <tbody>\n",
       "    <tr>\n",
       "      <th>col_1</th>\n",
       "      <td>1</td>\n",
       "      <td>4</td>\n",
       "    </tr>\n",
       "    <tr>\n",
       "      <th>col_2</th>\n",
       "      <td>2</td>\n",
       "      <td>5</td>\n",
       "    </tr>\n",
       "    <tr>\n",
       "      <th>col_3</th>\n",
       "      <td>3</td>\n",
       "      <td>6</td>\n",
       "    </tr>\n",
       "  </tbody>\n",
       "</table>\n",
       "</div>"
      ],
      "text/plain": [
       "       row_1  row_2\n",
       "col_1      1      4\n",
       "col_2      2      5\n",
       "col_3      3      6"
      ]
     },
     "metadata": {},
     "output_type": "display_data"
    }
   ],
   "source": [
    "df = pd.DataFrame([[1,2,3], [4,5,6]], index=[\"row_1\", \"row_2\"], columns=[\"col_1\", \"col_2\", \"col_3\"])\n",
    "display(df)\n",
    "\n",
    "dfTransposed = df.T # '<df name>.T' transposes the dataframe and returns it as a new dataframe\n",
    "display(dfTransposed)"
   ]
  },
  {
   "attachments": {},
   "cell_type": "markdown",
   "metadata": {},
   "source": [
    "## Code control"
   ]
  },
  {
   "attachments": {},
   "cell_type": "markdown",
   "metadata": {},
   "source": [
    "In order to allow developers to specify how/when specific lines of code are executed within their script, python includes several common code control expressions. The most relevant ones for this course are 'if' statements and 'for' loops. When using nested code control expressions it is very important to pay attention to indentation levels, as this is how python interprets what code belongs within a particular expression"
   ]
  },
  {
   "attachments": {},
   "cell_type": "markdown",
   "metadata": {},
   "source": [
    "### if statements"
   ]
  },
  {
   "attachments": {},
   "cell_type": "markdown",
   "metadata": {},
   "source": [
    "if statements are made up of a condition statement and a corresponding block of code that will only be executed if that condition is met:"
   ]
  },
  {
   "cell_type": "code",
   "execution_count": 113,
   "metadata": {},
   "outputs": [
    {
     "name": "stdout",
     "output_type": "stream",
     "text": [
      "30\n",
      "40\n",
      "40\n"
     ]
    }
   ],
   "source": [
    "varOne = 10\n",
    "varTwo = 40\n",
    "\n",
    "if varOne < varTwo: # The condition before the ':' can use any of logical comparison operators\n",
    "    varOne = varOne + 10 # Any lines of code indented beneath the if statement \n",
    "    varOne = varOne + 10\n",
    "print(varOne)\n",
    "\n",
    "if varOne < varTwo:\n",
    "    varOne = varOne + 10\n",
    "print(varOne)\n",
    "\n",
    "if varOne < varTwo:\n",
    "    varOne = varOne + 10\n",
    "print(varOne)"
   ]
  },
  {
   "attachments": {},
   "cell_type": "markdown",
   "metadata": {},
   "source": [
    "If statements can also be nested:"
   ]
  },
  {
   "cell_type": "code",
   "execution_count": 119,
   "metadata": {},
   "outputs": [
    {
     "name": "stdout",
     "output_type": "stream",
     "text": [
      "20\n"
     ]
    }
   ],
   "source": [
    "varOne = 10\n",
    "varTwo = 30\n",
    "varThree = 15\n",
    "\n",
    "if varOne < varTwo:\n",
    "    varOne = varOne + 10\n",
    "    if varOne < varThree: # pay attention to indentation levels when nesting\n",
    "        varOne = varOne + 10\n",
    "print(varOne)"
   ]
  },
  {
   "attachments": {},
   "cell_type": "markdown",
   "metadata": {},
   "source": [
    "Multiple conditions can be strung together in a single if statment:"
   ]
  },
  {
   "cell_type": "code",
   "execution_count": 116,
   "metadata": {},
   "outputs": [
    {
     "name": "stdout",
     "output_type": "stream",
     "text": [
      "20\n",
      "20\n",
      "30\n"
     ]
    }
   ],
   "source": [
    "varOne = 10\n",
    "varTwo = 30\n",
    "varThree = 100\n",
    "\n",
    "if varOne < varTwo and varOne < varThree: # 'and' conditions will only be true if all comparisons are true\n",
    "    varOne = varOne+10\n",
    "print(varOne)\n",
    "if varOne < varTwo and varOne > varThree: # 'and' conditions will only be true if all comparisons are true\n",
    "    varOne = varOne+10\n",
    "print(varOne)\n",
    "\n",
    "if varOne < varTwo or varOne > varThree: # 'or' conditions will be true if at least one of the comparisons are true\n",
    "    varOne = varOne+10\n",
    "print(varOne)"
   ]
  },
  {
   "attachments": {},
   "cell_type": "markdown",
   "metadata": {},
   "source": [
    "If there is also a block of code that you want to execute if the condition in an if statement is **False**, then the if statement can be followed by an else statement"
   ]
  },
  {
   "cell_type": "code",
   "execution_count": 117,
   "metadata": {},
   "outputs": [
    {
     "name": "stdout",
     "output_type": "stream",
     "text": [
      "0\n"
     ]
    }
   ],
   "source": [
    "varOne = 10\n",
    "varTwo = 30\n",
    "\n",
    "if varOne > varTwo:\n",
    "    varOne = varOne + 10\n",
    "else:\n",
    "    varOne = varOne - 10\n",
    "\n",
    "print(varOne)"
   ]
  },
  {
   "attachments": {},
   "cell_type": "markdown",
   "metadata": {},
   "source": [
    "### for loops"
   ]
  },
  {
   "attachments": {},
   "cell_type": "markdown",
   "metadata": {},
   "source": [
    "If there is a line/block of code that needs to be run repeatedly many times, it can be placed inside a for loop. For loops will iterate over a provide range of values/variables, allowing code within the loop to run during each iteration:"
   ]
  },
  {
   "cell_type": "code",
   "execution_count": 142,
   "metadata": {},
   "outputs": [
    {
     "name": "stdout",
     "output_type": "stream",
     "text": [
      "0\n",
      "1\n",
      "2\n",
      "3\n",
      "4\n",
      "5\n",
      "6\n",
      "7\n",
      "8\n",
      "9\n",
      "\n",
      "100\n"
     ]
    }
   ],
   "source": [
    "varOne = 0\n",
    "\n",
    "for i in range(0,10): # here range(0,10) is used to create a range of numbers from 0 (inculsive) to 10 (exclusive). The for loop then iterates through this list.\n",
    "    print(i)\n",
    "    varOne = varOne + 10 # This code is run each time as the loop iterates through the range, resulting in it being run 10 times before the loop concludes\n",
    "print()\n",
    "print(varOne)"
   ]
  },
  {
   "cell_type": "code",
   "execution_count": 141,
   "metadata": {},
   "outputs": [
    {
     "name": "stdout",
     "output_type": "stream",
     "text": [
      "45\n"
     ]
    },
    {
     "data": {
      "text/plain": [
       "45"
      ]
     },
     "execution_count": 141,
     "metadata": {},
     "output_type": "execute_result"
    }
   ],
   "source": [
    "varOne = 0\n",
    "\n",
    "for i in range(0,10): # the indexing variable 'i' (can be named anything you want) takes on the values within the range as the loop iterates through them\n",
    "    varOne = varOne + i\n",
    "print(varOne)\n",
    "\n",
    "# This is equivalent to taking the sum of the numbers from 0-9 (each value in the range):\n",
    "sum([0,1,2,3,4,5,6,7,8,9])"
   ]
  },
  {
   "attachments": {},
   "cell_type": "markdown",
   "metadata": {},
   "source": [
    "For loops can also be used to iterate over more complex datastructures, performing the same operation each time"
   ]
  },
  {
   "cell_type": "code",
   "execution_count": 131,
   "metadata": {},
   "outputs": [
    {
     "data": {
      "text/html": [
       "<div>\n",
       "<style scoped>\n",
       "    .dataframe tbody tr th:only-of-type {\n",
       "        vertical-align: middle;\n",
       "    }\n",
       "\n",
       "    .dataframe tbody tr th {\n",
       "        vertical-align: top;\n",
       "    }\n",
       "\n",
       "    .dataframe thead th {\n",
       "        text-align: right;\n",
       "    }\n",
       "</style>\n",
       "<table border=\"1\" class=\"dataframe\">\n",
       "  <thead>\n",
       "    <tr style=\"text-align: right;\">\n",
       "      <th></th>\n",
       "      <th>column_1</th>\n",
       "      <th>column_2</th>\n",
       "      <th>column_3</th>\n",
       "    </tr>\n",
       "  </thead>\n",
       "  <tbody>\n",
       "    <tr>\n",
       "      <th>0</th>\n",
       "      <td>1</td>\n",
       "      <td>4</td>\n",
       "      <td>7</td>\n",
       "    </tr>\n",
       "    <tr>\n",
       "      <th>1</th>\n",
       "      <td>2</td>\n",
       "      <td>5</td>\n",
       "      <td>8</td>\n",
       "    </tr>\n",
       "    <tr>\n",
       "      <th>2</th>\n",
       "      <td>3</td>\n",
       "      <td>6</td>\n",
       "      <td>9</td>\n",
       "    </tr>\n",
       "  </tbody>\n",
       "</table>\n",
       "</div>"
      ],
      "text/plain": [
       "   column_1  column_2  column_3\n",
       "0         1         4         7\n",
       "1         2         5         8\n",
       "2         3         6         9"
      ]
     },
     "metadata": {},
     "output_type": "display_data"
    },
    {
     "name": "stdout",
     "output_type": "stream",
     "text": [
      "6\n",
      "15\n",
      "24\n"
     ]
    }
   ],
   "source": [
    "dictionary = {\"column_1\": [1,2,3], \"column_2\": [4,5,6], \"column_3\": [7,8,9]}\n",
    "df = pd.DataFrame(dictionary)\n",
    "display(df)\n",
    "\n",
    "for column in df: # here the indexing variable 'column' takes on values equal to each of the column names in df as the loop iterates through each one\n",
    "    print(sum(df[column])) # This allows us to extract that column from the dataframe using the indexing variable, and perform operations on it"
   ]
  },
  {
   "attachments": {},
   "cell_type": "markdown",
   "metadata": {},
   "source": [
    "You can also iterate over dictionaries"
   ]
  },
  {
   "cell_type": "code",
   "execution_count": 146,
   "metadata": {},
   "outputs": [
    {
     "data": {
      "text/plain": [
       "{'column_1': [1, 2, 3], 'column_2': [4, 5, 6], 'column_3': [7, 8, 9]}"
      ]
     },
     "metadata": {},
     "output_type": "display_data"
    },
    {
     "name": "stdout",
     "output_type": "stream",
     "text": [
      "column_1\n",
      "6\n",
      "column_2\n",
      "15\n",
      "column_3\n",
      "24\n",
      "\n",
      "column_1\n",
      "column_2\n",
      "column_3\n",
      "\n",
      "[1, 2, 3]\n",
      "[4, 5, 6]\n",
      "[7, 8, 9]\n"
     ]
    }
   ],
   "source": [
    "display(dictionary)\n",
    "\n",
    "for key,value in dictionary.items(): # here the loop iterates over each key-value pair in the dictionary, extracting them to the 'key' and 'value' indexing variables, respectively\n",
    "    print(key)\n",
    "    print(sum(value))\n",
    "print()\n",
    "# Alternatively, you can iterate over only the dictionary keys:\n",
    "for key in dictionary.keys(): \n",
    "    print(key)\n",
    "print()\n",
    "# Or the dictionary values:\n",
    "for value in dictionary.values(): \n",
    "    print(value)"
   ]
  }
 ],
 "metadata": {
  "kernelspec": {
   "display_name": "single-cell-analysis",
   "language": "python",
   "name": "single-cell-analysis"
  },
  "language_info": {
   "codemirror_mode": {
    "name": "ipython",
    "version": 3
   },
   "file_extension": ".py",
   "mimetype": "text/x-python",
   "name": "python",
   "nbconvert_exporter": "python",
   "pygments_lexer": "ipython3",
   "version": "3.10.6"
  },
  "orig_nbformat": 4
 },
 "nbformat": 4,
 "nbformat_minor": 2
}
